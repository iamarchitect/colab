{
  "nbformat": 4,
  "nbformat_minor": 0,
  "metadata": {
    "colab": {
      "provenance": [],
      "authorship_tag": "ABX9TyN8HXElegoJ+OoHaEcbV7Qo",
      "include_colab_link": true
    },
    "kernelspec": {
      "name": "python3",
      "display_name": "Python 3"
    },
    "language_info": {
      "name": "python"
    },
    "accelerator": "GPU",
    "gpuClass": "standard"
  },
  "cells": [
    {
      "cell_type": "markdown",
      "metadata": {
        "id": "view-in-github",
        "colab_type": "text"
      },
      "source": [
        "<a href=\"https://colab.research.google.com/github/sahiliem/colab/blob/main/Deep_Learning_With_PyTorch_1.ipynb\" target=\"_parent\"><img src=\"https://colab.research.google.com/assets/colab-badge.svg\" alt=\"Open In Colab\"/></a>"
      ]
    },
    {
      "cell_type": "markdown",
      "source": [
        "Neural networks comprise of layers/modules that perform operations on data. The torch.nn namespace provides all the building blocks you need to build your own neural network. Every module in PyTorch subclasses the nn.Module. A neural network is a module itself that consists of other modules (layers). This nested structure allows for building and managing complex architectures easily.\n",
        "\n",
        "In the following sections, we’ll build a neural network to classify images in the FashionMNIST dataset.\n",
        "\n",
        "---\n",
        "\n",
        "https://pytorch.org/tutorials/beginner/basics/buildmodel_tutorial.html"
      ],
      "metadata": {
        "id": "G5RMkHb9uecB"
      }
    },
    {
      "cell_type": "code",
      "source": [
        "import os\n",
        "import torch\n",
        "from torch import nn\n",
        "from torch.utils.data import DataLoader\n",
        "from torchvision import datasets, transforms\n",
        "from torchvision.transforms import ToTensor,Lambda"
      ],
      "metadata": {
        "id": "5IW4Ai-Mudcu"
      },
      "execution_count": 107,
      "outputs": []
    },
    {
      "cell_type": "code",
      "execution_count": 108,
      "metadata": {
        "id": "nBupnsbrDiT7",
        "outputId": "b573d1b6-114a-448f-9e7c-33a9d6058752",
        "colab": {
          "base_uri": "https://localhost:8080/"
        }
      },
      "outputs": [
        {
          "output_type": "stream",
          "name": "stdout",
          "text": [
            "Using cuda device\n"
          ]
        }
      ],
      "source": [
        "device = (\n",
        "    \"cuda\"\n",
        "    if torch.cuda.is_available()\n",
        "    else \"mps\"\n",
        "    if torch.backends.mps.is_available()\n",
        "    else \"cpu\"\n",
        ")\n",
        "print(f\"Using {device} device\")"
      ]
    },
    {
      "cell_type": "markdown",
      "source": [
        "Here is an example of how to load the Fashion-MNIST dataset from TorchVision. Fashion-MNIST is a dataset of Zalando’s article images consisting of 60,000 training examples and 10,000 test examples. Each example comprises a 28×28 grayscale image and an associated label from one of 10 classes.\n",
        "\n",
        "We load the FashionMNIST Dataset with the following parameters:\n",
        "root is the path where the train/test data is stored,\n",
        "\n",
        "train specifies training or test dataset,\n",
        "\n",
        "download=True downloads the data from the internet if it’s not available at root.\n",
        "\n",
        "transform and target_transform specify the feature and label transformations"
      ],
      "metadata": {
        "id": "SrbgL3IVwcCb"
      }
    },
    {
      "cell_type": "code",
      "source": [
        "training_data = datasets.FashionMNIST(\n",
        "    root=\"data\",\n",
        "    train=True,\n",
        "    download=True,\n",
        "    transform=ToTensor()\n",
        ")\n",
        "\n",
        "test_data = datasets.FashionMNIST(\n",
        "    root=\"data\",\n",
        "    train=False,\n",
        "    download=True,\n",
        "    transform=ToTensor()\n",
        ")"
      ],
      "metadata": {
        "id": "CkIFx-wIwmWT"
      },
      "execution_count": 109,
      "outputs": []
    },
    {
      "cell_type": "markdown",
      "source": [
        "Preparing your data for training with DataLoaders\n",
        "The Dataset retrieves our dataset’s features and labels one sample at a time. While training a model, we typically want to pass samples in “minibatches”, reshuffle the data at every epoch to reduce model overfitting, and use Python’s multiprocessing to speed up data retrieval.\n",
        "\n",
        "DataLoader is an iterable that abstracts this complexity for us in an easy API."
      ],
      "metadata": {
        "id": "uk6X66_rCYeR"
      }
    },
    {
      "cell_type": "code",
      "source": [
        "train_dataloader = DataLoader(training_data, batch_size=64)\n",
        "test_dataloader = DataLoader(test_data, batch_size=64)"
      ],
      "metadata": {
        "id": "GRxg1LUdCSpd"
      },
      "execution_count": 110,
      "outputs": []
    },
    {
      "cell_type": "code",
      "source": [
        "# Let display the images\n",
        "import matplotlib.pyplot as plt\n",
        "\n",
        "figure = plt.figure(figsize=(8, 8))\n",
        "cols, rows = 3, 3\n",
        "for i in range(1, cols * rows + 1):\n",
        "    sample_idx = torch.randint(len(training_data), size=(1,)).item()\n",
        "    img, label = training_data[sample_idx]\n",
        "    figure.add_subplot(rows, cols, i)\n",
        "    #plt.title(labels_map[label])\n",
        "    plt.axis(\"off\")\n",
        "    plt.imshow(img.squeeze(), cmap=\"gray\")\n",
        "plt.show()"
      ],
      "metadata": {
        "id": "_2FjkFEnxAxl",
        "outputId": "696f05f3-2cbb-416f-c88a-e71c3a1d905b",
        "colab": {
          "base_uri": "https://localhost:8080/",
          "height": 653
        }
      },
      "execution_count": 111,
      "outputs": [
        {
          "output_type": "display_data",
          "data": {
            "text/plain": [
              "<Figure size 800x800 with 9 Axes>"
            ],
            "image/png": "[encoded data removed]"
          },
          "metadata": {}
        }
      ]
    },
    {
      "cell_type": "markdown",
      "source": [
        "Define the Class\n",
        "---\n",
        "We define our neural network by subclassing nn.Module, and initialize the neural network layers in __init__. Every nn.Module subclass implements the operations on input data in the forward method."
      ],
      "metadata": {
        "id": "4HTFYeDnuuzH"
      }
    },
    {
      "cell_type": "code",
      "source": [
        "class NeuralNetwork(nn.Module):\n",
        "    def __init__(self):\n",
        "        super().__init__()\n",
        "        self.flatten = nn.Flatten()\n",
        "        self.linear_relu_stack = nn.Sequential(\n",
        "            nn.Linear(28*28, 512),\n",
        "            nn.ReLU(),\n",
        "            nn.Linear(512, 512),\n",
        "            nn.ReLU(),\n",
        "            nn.Linear(512, 10),\n",
        "        )\n",
        "\n",
        "    def forward(self, x):\n",
        "        x = self.flatten(x)\n",
        "        logits = self.linear_relu_stack(x)\n",
        "        return logits"
      ],
      "metadata": {
        "id": "0OE-OpHeutyw"
      },
      "execution_count": 112,
      "outputs": []
    },
    {
      "cell_type": "markdown",
      "source": [
        "We create an instance of NeuralNetwork, and move it to the device, and print its structure."
      ],
      "metadata": {
        "id": "P-Ju8MGSu_cr"
      }
    },
    {
      "cell_type": "code",
      "source": [
        "model = NeuralNetwork()\n",
        "print(model)"
      ],
      "metadata": {
        "id": "WuP1LdEvvDWU",
        "outputId": "112de766-ce13-4ed3-e0f0-75c20ad81c7e",
        "colab": {
          "base_uri": "https://localhost:8080/"
        }
      },
      "execution_count": 113,
      "outputs": [
        {
          "output_type": "stream",
          "name": "stdout",
          "text": [
            "NeuralNetwork(\n",
            "  (flatten): Flatten(start_dim=1, end_dim=-1)\n",
            "  (linear_relu_stack): Sequential(\n",
            "    (0): Linear(in_features=784, out_features=512, bias=True)\n",
            "    (1): ReLU()\n",
            "    (2): Linear(in_features=512, out_features=512, bias=True)\n",
            "    (3): ReLU()\n",
            "    (4): Linear(in_features=512, out_features=10, bias=True)\n",
            "  )\n",
            ")\n"
          ]
        }
      ]
    },
    {
      "cell_type": "markdown",
      "source": [
        "To use the model, we pass it the input data. This executes the model’s forward, along with some background operations. Do not call model.forward() directly!\n",
        "\n",
        "Calling the model on the input returns a 2-dimensional tensor with dim=0 corresponding to each output of 10 raw predicted values for each class, and dim=1 corresponding to the individual values of each output. We get the prediction probabilities by passing it through an instance of the nn.Softmax module."
      ],
      "metadata": {
        "id": "KvGEkdMvvigm"
      }
    },
    {
      "cell_type": "markdown",
      "source": [
        "https://pytorch.org/tutorials/beginner/basics/optimization_tutorial.html\n",
        "\n",
        "---\n",
        "Now that we have a model and data it’s time to train, validate and test our model by optimizing its parameters on our data. Training a model is an iterative process; in each iteration the model makes a guess about the output, calculates the error in its guess (loss), collects the derivatives of the error with respect to its parameters (as we saw in the previous section), and optimizes these parameters using gradient descent\n",
        "\n",
        "**Hyperparameters**\n",
        "Hyperparameters are adjustable parameters that let you control the model optimization process. Different hyperparameter values can impact model training and convergence rates (read more about hyperparameter tuning)\n",
        "\n",
        "We define the following hyperparameters for training:\n",
        "Number of Epochs - the number times to iterate over the dataset\n",
        "\n",
        "Batch Size - the number of data samples propagated through the network before the parameters are updated\n",
        "\n",
        "Learning Rate - how much to update models parameters at each batch/epoch. Smaller values yield slow learning speed, while large values may result in unpredictable behavior during training."
      ],
      "metadata": {
        "id": "Hpjg71sk9KUD"
      }
    },
    {
      "cell_type": "code",
      "source": [
        "learning_rate = 1e-3\n",
        "batch_size = 64\n",
        "epochs = 5"
      ],
      "metadata": {
        "id": "sYB2ofwK9Vtf"
      },
      "execution_count": 114,
      "outputs": []
    },
    {
      "cell_type": "markdown",
      "source": [
        "**Optimization Loop**\n",
        "Once we set our hyperparameters, we can then train and optimize our model with an optimization loop. Each iteration of the optimization loop is called an epoch.\n",
        "\n",
        "Each epoch consists of two main parts:\n",
        "The Train Loop - iterate over the training dataset and try to converge to optimal parameters.\n",
        "\n",
        "The Validation/Test Loop - iterate over the test dataset to check if model performance is improving.\n",
        "\n",
        "Let’s briefly familiarize ourselves with some of the concepts used in the training loop"
      ],
      "metadata": {
        "id": "WwxtXkG39kHp"
      }
    },
    {
      "cell_type": "code",
      "source": [
        "# Train\n",
        "\n",
        "def train_loop(dataloader, model, loss_fn, optimizer):\n",
        "    size = len(dataloader.dataset)\n",
        "    for batch, (X, y) in enumerate(dataloader):\n",
        "        # Compute prediction and loss\n",
        "        pred = model(X)\n",
        "        loss = loss_fn(pred, y)\n",
        "\n",
        "        # Backpropagation\n",
        "        optimizer.zero_grad()\n",
        "        loss.backward()\n",
        "        optimizer.step()\n",
        "\n",
        "        if batch % 100 == 0:\n",
        "            loss, current = loss.item(), (batch + 1) * len(X)\n",
        "            print(f\"loss: {loss:>7f}  [{current:>5d}/{size:>5d}]\")\n",
        "\n",
        "\n"
      ],
      "metadata": {
        "id": "oyAsCBKh9ABw"
      },
      "execution_count": 115,
      "outputs": []
    },
    {
      "cell_type": "code",
      "source": [
        "# Test\n",
        "def test_loop(dataloader, model, loss_fn):\n",
        "    size = len(dataloader.dataset)\n",
        "    num_batches = len(dataloader)\n",
        "    test_loss, correct = 0, 0\n",
        "\n",
        "    with torch.no_grad():\n",
        "        for X, y in dataloader:\n",
        "            pred = model(X)\n",
        "            test_loss += loss_fn(pred, y).item()\n",
        "            correct += (pred.argmax(1) == y).type(torch.float).sum().item()\n",
        "\n",
        "    test_loss /= num_batches\n",
        "    correct /= size\n",
        "    print(f\"Test Error: \\n Accuracy: {(100*correct):>0.1f}%, Avg loss: {test_loss:>8f} \\n\")"
      ],
      "metadata": {
        "id": "24IBhY5H9qgJ"
      },
      "execution_count": 116,
      "outputs": []
    },
    {
      "cell_type": "markdown",
      "source": [
        "We initialize the loss function and optimizer, and pass it to train_loop and test_loop. Feel free to increase the number of epochs to track the model’s improving performance."
      ],
      "metadata": {
        "id": "DE6UsAOp97aQ"
      }
    },
    {
      "cell_type": "code",
      "source": [
        "loss_fn = nn.CrossEntropyLoss()\n",
        "optimizer = torch.optim.SGD(model.parameters(), lr=learning_rate)\n",
        "\n",
        "epochs = 10\n",
        "for t in range(epochs):\n",
        "    print(f\"Epoch {t+1}\\n-------------------------------\")\n",
        "    train_loop(train_dataloader, model, loss_fn, optimizer)\n",
        "    test_loop(test_dataloader, model, loss_fn)\n",
        "print(\"Done!\")"
      ],
      "metadata": {
        "id": "_MizDSUc9-RH",
        "outputId": "26998772-8cd1-4ab8-c74e-7a98e8dd5b08",
        "colab": {
          "base_uri": "https://localhost:8080/"
        }
      },
      "execution_count": 117,
      "outputs": [
        {
          "output_type": "stream",
          "name": "stdout",
          "text": [
            "Epoch 1\n",
            "-------------------------------\n",
            "loss: 2.308375  [   64/60000]\n",
            "loss: 2.298712  [ 6464/60000]\n",
            "loss: 2.284243  [12864/60000]\n",
            "loss: 2.276564  [19264/60000]\n",
            "loss: 2.271016  [25664/60000]\n",
            "loss: 2.234325  [32064/60000]\n",
            "loss: 2.244454  [38464/60000]\n",
            "loss: 2.211279  [44864/60000]\n",
            "loss: 2.211843  [51264/60000]\n",
            "loss: 2.187551  [57664/60000]\n",
            "Test Error: \n",
            " Accuracy: 41.6%, Avg loss: 2.184276 \n",
            "\n",
            "Epoch 2\n",
            "-------------------------------\n",
            "loss: 2.192760  [   64/60000]\n",
            "loss: 2.183892  [ 6464/60000]\n",
            "loss: 2.137289  [12864/60000]\n",
            "loss: 2.151333  [19264/60000]\n",
            "loss: 2.114314  [25664/60000]\n",
            "loss: 2.048681  [32064/60000]\n",
            "loss: 2.079641  [38464/60000]\n",
            "loss: 2.003082  [44864/60000]\n",
            "loss: 2.014524  [51264/60000]\n",
            "loss: 1.952146  [57664/60000]\n",
            "Test Error: \n",
            " Accuracy: 52.9%, Avg loss: 1.948106 \n",
            "\n",
            "Epoch 3\n",
            "-------------------------------\n",
            "loss: 1.975939  [   64/60000]\n",
            "loss: 1.944305  [ 6464/60000]\n",
            "loss: 1.842577  [12864/60000]\n",
            "loss: 1.887035  [19264/60000]\n",
            "loss: 1.783527  [25664/60000]\n",
            "loss: 1.720466  [32064/60000]\n",
            "loss: 1.752371  [38464/60000]\n",
            "loss: 1.644689  [44864/60000]\n",
            "loss: 1.676090  [51264/60000]\n",
            "loss: 1.574116  [57664/60000]\n",
            "Test Error: \n",
            " Accuracy: 59.2%, Avg loss: 1.584558 \n",
            "\n",
            "Epoch 4\n",
            "-------------------------------\n",
            "loss: 1.644841  [   64/60000]\n",
            "loss: 1.603421  [ 6464/60000]\n",
            "loss: 1.462287  [12864/60000]\n",
            "loss: 1.539110  [19264/60000]\n",
            "loss: 1.420090  [25664/60000]\n",
            "loss: 1.401949  [32064/60000]\n",
            "loss: 1.419336  [38464/60000]\n",
            "loss: 1.333835  [44864/60000]\n",
            "loss: 1.374956  [51264/60000]\n",
            "loss: 1.273266  [57664/60000]\n",
            "Test Error: \n",
            " Accuracy: 63.2%, Avg loss: 1.296300 \n",
            "\n",
            "Epoch 5\n",
            "-------------------------------\n",
            "loss: 1.370168  [   64/60000]\n",
            "loss: 1.345723  [ 6464/60000]\n",
            "loss: 1.188353  [12864/60000]\n",
            "loss: 1.296746  [19264/60000]\n",
            "loss: 1.175512  [25664/60000]\n",
            "loss: 1.188899  [32064/60000]\n",
            "loss: 1.207585  [38464/60000]\n",
            "loss: 1.137576  [44864/60000]\n",
            "loss: 1.183866  [51264/60000]\n",
            "loss: 1.095363  [57664/60000]\n",
            "Test Error: \n",
            " Accuracy: 64.7%, Avg loss: 1.116186 \n",
            "\n",
            "Epoch 6\n",
            "-------------------------------\n",
            "loss: 1.185927  [   64/60000]\n",
            "loss: 1.180233  [ 6464/60000]\n",
            "loss: 1.007599  [12864/60000]\n",
            "loss: 1.146114  [19264/60000]\n",
            "loss: 1.023293  [25664/60000]\n",
            "loss: 1.045299  [32064/60000]\n",
            "loss: 1.077517  [38464/60000]\n",
            "loss: 1.012990  [44864/60000]\n",
            "loss: 1.061457  [51264/60000]\n",
            "loss: 0.983601  [57664/60000]\n",
            "Test Error: \n",
            " Accuracy: 65.6%, Avg loss: 1.000364 \n",
            "\n",
            "Epoch 7\n",
            "-------------------------------\n",
            "loss: 1.059187  [   64/60000]\n",
            "loss: 1.072982  [ 6464/60000]\n",
            "loss: 0.884567  [12864/60000]\n",
            "loss: 1.046273  [19264/60000]\n",
            "loss: 0.926611  [25664/60000]\n",
            "loss: 0.945188  [32064/60000]\n",
            "loss: 0.993070  [38464/60000]\n",
            "loss: 0.932873  [44864/60000]\n",
            "loss: 0.977875  [51264/60000]\n",
            "loss: 0.909595  [57664/60000]\n",
            "Test Error: \n",
            " Accuracy: 66.9%, Avg loss: 0.922277 \n",
            "\n",
            "Epoch 8\n",
            "-------------------------------\n",
            "loss: 0.967402  [   64/60000]\n",
            "loss: 0.999933  [ 6464/60000]\n",
            "loss: 0.797751  [12864/60000]\n",
            "loss: 0.975984  [19264/60000]\n",
            "loss: 0.862624  [25664/60000]\n",
            "loss: 0.872441  [32064/60000]\n",
            "loss: 0.934717  [38464/60000]\n",
            "loss: 0.879957  [44864/60000]\n",
            "loss: 0.918106  [51264/60000]\n",
            "loss: 0.857313  [57664/60000]\n",
            "Test Error: \n",
            " Accuracy: 68.1%, Avg loss: 0.866741 \n",
            "\n",
            "Epoch 9\n",
            "-------------------------------\n",
            "loss: 0.897677  [   64/60000]\n",
            "loss: 0.946477  [ 6464/60000]\n",
            "loss: 0.733612  [12864/60000]\n",
            "loss: 0.924036  [19264/60000]\n",
            "loss: 0.817582  [25664/60000]\n",
            "loss: 0.817900  [32064/60000]\n",
            "loss: 0.891361  [38464/60000]\n",
            "loss: 0.843469  [44864/60000]\n",
            "loss: 0.873578  [51264/60000]\n",
            "loss: 0.818048  [57664/60000]\n",
            "Test Error: \n",
            " Accuracy: 69.2%, Avg loss: 0.825028 \n",
            "\n",
            "Epoch 10\n",
            "-------------------------------\n",
            "loss: 0.842139  [   64/60000]\n",
            "loss: 0.904549  [ 6464/60000]\n",
            "loss: 0.684063  [12864/60000]\n",
            "loss: 0.884206  [19264/60000]\n",
            "loss: 0.783801  [25664/60000]\n",
            "loss: 0.775870  [32064/60000]\n",
            "loss: 0.856878  [38464/60000]\n",
            "loss: 0.816799  [44864/60000]\n",
            "loss: 0.838774  [51264/60000]\n",
            "loss: 0.787126  [57664/60000]\n",
            "Test Error: \n",
            " Accuracy: 70.4%, Avg loss: 0.792101 \n",
            "\n",
            "Done!\n"
          ]
        }
      ]
    },
    {
      "cell_type": "code",
      "source": [
        "# Save the Model\n",
        "import torchvision.models as models"
      ],
      "metadata": {
        "id": "py8digfrDK0U"
      },
      "execution_count": 118,
      "outputs": []
    },
    {
      "cell_type": "markdown",
      "source": [
        "Saving and Loading Model Weights\n",
        "PyTorch models store the learned parameters in an internal state dictionary, called state_dict. These can be persisted via the torch.save method:"
      ],
      "metadata": {
        "id": "zTD-a31LDcpy"
      }
    },
    {
      "cell_type": "code",
      "source": [
        "model = models.vgg16(weights='IMAGENET1K_V1')\n",
        "torch.save(model.state_dict(), 'model_weights.pth')"
      ],
      "metadata": {
        "id": "b_G5vHSSDeBE",
        "outputId": "02b8343b-8788-4a28-8582-e9fcdaf82bd1",
        "colab": {
          "base_uri": "https://localhost:8080/"
        }
      },
      "execution_count": 119,
      "outputs": [
        {
          "output_type": "stream",
          "name": "stderr",
          "text": [
            "Downloading: \"https://download.pytorch.org/models/vgg16-397923af.pth\" to /root/.cache/torch/hub/checkpoints/vgg16-397923af.pth\n",
            "100%|██████████| 528M/528M [00:03<00:00, 146MB/s]\n"
          ]
        }
      ]
    }
  ]
}