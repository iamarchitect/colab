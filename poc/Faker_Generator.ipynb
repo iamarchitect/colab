{
  "nbformat": 4,
  "nbformat_minor": 0,
  "metadata": {
    "colab": {
      "provenance": [],
      "authorship_tag": "ABX9TyPKGpqd3vFA6Bq8aYTggTRd",
      "include_colab_link": true
    },
    "kernelspec": {
      "name": "python3",
      "display_name": "Python 3"
    },
    "language_info": {
      "name": "python"
    }
  },
  "cells": [
    {
      "cell_type": "markdown",
      "metadata": {
        "id": "view-in-github",
        "colab_type": "text"
      },
      "source": [
        "<a href=\"https://colab.research.google.com/github/sahiliem/colab/blob/main/poc/Faker_Generator.ipynb\" target=\"_parent\"><img src=\"https://colab.research.google.com/assets/colab-badge.svg\" alt=\"Open In Colab\"/></a>"
      ]
    },
    {
      "cell_type": "code",
      "execution_count": 1,
      "metadata": {
        "colab": {
          "base_uri": "https://localhost:8080/"
        },
        "id": "zN5j_uap9Ewg",
        "outputId": "9fd68120-1035-4a6f-d6e2-b0f259c6852d"
      },
      "outputs": [
        {
          "output_type": "stream",
          "name": "stdout",
          "text": [
            "Looking in indexes: https://pypi.org/simple, https://us-python.pkg.dev/colab-wheels/public/simple/\n",
            "Collecting Faker\n",
            "  Downloading Faker-18.6.2-py3-none-any.whl (1.7 MB)\n",
            "\u001b[2K     \u001b[90m━━━━━━━━━━━━━━━━━━━━━━━━━━━━━━━━━━━━━━━━\u001b[0m \u001b[32m1.7/1.7 MB\u001b[0m \u001b[31m15.7 MB/s\u001b[0m eta \u001b[36m0:00:00\u001b[0m\n",
            "\u001b[?25hRequirement already satisfied: python-dateutil>=2.4 in /usr/local/lib/python3.10/dist-packages (from Faker) (2.8.2)\n",
            "Requirement already satisfied: six>=1.5 in /usr/local/lib/python3.10/dist-packages (from python-dateutil>=2.4->Faker) (1.16.0)\n",
            "Installing collected packages: Faker\n",
            "Successfully installed Faker-18.6.2\n"
          ]
        }
      ],
      "source": [
        "!pip install Faker"
      ]
    },
    {
      "cell_type": "code",
      "source": [
        "import random\n",
        "import string\n",
        "from faker import Faker\n",
        "from faker.providers import BaseProvider\n",
        "\n",
        "class MyProvider(BaseProvider):\n",
        "    def alert_no(self, length):\n",
        "        letters = string.ascii_lowercase\n",
        "        return ''.join(random.choice(letters) for i in range(length))\n",
        "\n",
        "fake = Faker()\n",
        "fake.add_provider(MyProvider)"
      ],
      "metadata": {
        "id": "senmdxkv9k5I"
      },
      "execution_count": 2,
      "outputs": []
    },
    {
      "cell_type": "code",
      "source": [
        "\n",
        "# Generate a random string of length 10\n",
        "random_string = fake.alert_no(10)\n",
        "random_string"
      ],
      "metadata": {
        "colab": {
          "base_uri": "https://localhost:8080/",
          "height": 35
        },
        "id": "2kKl6hrB-h0i",
        "outputId": "fe772515-bc37-475b-fb31-2ea50a7c7f5c"
      },
      "execution_count": 4,
      "outputs": [
        {
          "output_type": "execute_result",
          "data": {
            "text/plain": [
              "'yckrbgakfx'"
            ],
            "application/vnd.google.colaboratory.intrinsic+json": {
              "type": "string"
            }
          },
          "metadata": {},
          "execution_count": 4
        }
      ]
    },
    {
      "cell_type": "code",
      "source": [
        "Faker.seed(0)\n",
        "for _ in range(5):\n",
        "  dd= fake.bothify(text='Product Number: ????-########', letters='ABCDE')\n",
        "  print(dd)"
      ],
      "metadata": {
        "colab": {
          "base_uri": "https://localhost:8080/"
        },
        "id": "a0uJCK1t-5iP",
        "outputId": "8411c5f7-8b83-402a-c122-ec3a9fb46078"
      },
      "execution_count": 9,
      "outputs": [
        {
          "output_type": "stream",
          "name": "stdout",
          "text": [
            "Product Number: DCEB-66048764\n",
            "Product Number: EBCA-82421948\n",
            "Product Number: EBED-15781565\n",
            "Product Number: AEDC-78408016\n",
            "Product Number: EDAA-35139332\n"
          ]
        }
      ]
    }
  ]
}