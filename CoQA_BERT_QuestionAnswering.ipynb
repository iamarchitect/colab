{
  "nbformat": 4,
  "nbformat_minor": 0,
  "metadata": {
    "kernelspec": {
      "display_name": "Python 3",
      "language": "python",
      "name": "python3"
    },
    "language_info": {
      "codemirror_mode": {
        "name": "ipython",
        "version": 3
      },
      "file_extension": ".py",
      "mimetype": "text/x-python",
      "name": "python",
      "nbconvert_exporter": "python",
      "pygments_lexer": "ipython3",
      "version": "3.7.4"
    },
    "colab": {
      "provenance": [],
      "include_colab_link": true
    },
    "widgets": {
      "application/vnd.jupyter.widget-state+json": {
        "c7f8758c99d748959d1469692cc47800": {
          "model_module": "@jupyter-widgets/controls",
          "model_name": "HBoxModel",
          "model_module_version": "1.5.0",
          "state": {
            "_dom_classes": [],
            "_model_module": "@jupyter-widgets/controls",
            "_model_module_version": "1.5.0",
            "_model_name": "HBoxModel",
            "_view_count": null,
            "_view_module": "@jupyter-widgets/controls",
            "_view_module_version": "1.5.0",
            "_view_name": "HBoxView",
            "box_style": "",
            "children": [
              "IPY_MODEL_a3bc8934ca2a431985f2a79b8ba28d5a",
              "IPY_MODEL_0351f7c5529c4beea2ad233ad9627e2b",
              "IPY_MODEL_e98a4c88a2da4b6292445b36b85387a0"
            ],
            "layout": "IPY_MODEL_aa70325044ba40a79179ce8c0e609de0"
          }
        },
        "a3bc8934ca2a431985f2a79b8ba28d5a": {
          "model_module": "@jupyter-widgets/controls",
          "model_name": "HTMLModel",
          "model_module_version": "1.5.0",
          "state": {
            "_dom_classes": [],
            "_model_module": "@jupyter-widgets/controls",
            "_model_module_version": "1.5.0",
            "_model_name": "HTMLModel",
            "_view_count": null,
            "_view_module": "@jupyter-widgets/controls",
            "_view_module_version": "1.5.0",
            "_view_name": "HTMLView",
            "description": "",
            "description_tooltip": null,
            "layout": "IPY_MODEL_11b198bdc70e4f6d9b5467c658315648",
            "placeholder": "​",
            "style": "IPY_MODEL_a7ecc885bb094ef396835a4492a34661",
            "value": "Downloading (…)lve/main/config.json: 100%"
          }
        },
        "0351f7c5529c4beea2ad233ad9627e2b": {
          "model_module": "@jupyter-widgets/controls",
          "model_name": "FloatProgressModel",
          "model_module_version": "1.5.0",
          "state": {
            "_dom_classes": [],
            "_model_module": "@jupyter-widgets/controls",
            "_model_module_version": "1.5.0",
            "_model_name": "FloatProgressModel",
            "_view_count": null,
            "_view_module": "@jupyter-widgets/controls",
            "_view_module_version": "1.5.0",
            "_view_name": "ProgressView",
            "bar_style": "success",
            "description": "",
            "description_tooltip": null,
            "layout": "IPY_MODEL_16ed2a01806640b98ab1fd6ad92db348",
            "max": 443,
            "min": 0,
            "orientation": "horizontal",
            "style": "IPY_MODEL_de9ac8a19f924285a225076120296e9c",
            "value": 443
          }
        },
        "e98a4c88a2da4b6292445b36b85387a0": {
          "model_module": "@jupyter-widgets/controls",
          "model_name": "HTMLModel",
          "model_module_version": "1.5.0",
          "state": {
            "_dom_classes": [],
            "_model_module": "@jupyter-widgets/controls",
            "_model_module_version": "1.5.0",
            "_model_name": "HTMLModel",
            "_view_count": null,
            "_view_module": "@jupyter-widgets/controls",
            "_view_module_version": "1.5.0",
            "_view_name": "HTMLView",
            "description": "",
            "description_tooltip": null,
            "layout": "IPY_MODEL_772ff3a1aeb74f30b05bd7b31e05d722",
            "placeholder": "​",
            "style": "IPY_MODEL_a28922f3b5b94c73b0518c7367462453",
            "value": " 443/443 [00:00&lt;00:00, 15.3kB/s]"
          }
        },
        "aa70325044ba40a79179ce8c0e609de0": {
          "model_module": "@jupyter-widgets/base",
          "model_name": "LayoutModel",
          "model_module_version": "1.2.0",
          "state": {
            "_model_module": "@jupyter-widgets/base",
            "_model_module_version": "1.2.0",
            "_model_name": "LayoutModel",
            "_view_count": null,
            "_view_module": "@jupyter-widgets/base",
            "_view_module_version": "1.2.0",
            "_view_name": "LayoutView",
            "align_content": null,
            "align_items": null,
            "align_self": null,
            "border": null,
            "bottom": null,
            "display": null,
            "flex": null,
            "flex_flow": null,
            "grid_area": null,
            "grid_auto_columns": null,
            "grid_auto_flow": null,
            "grid_auto_rows": null,
            "grid_column": null,
            "grid_gap": null,
            "grid_row": null,
            "grid_template_areas": null,
            "grid_template_columns": null,
            "grid_template_rows": null,
            "height": null,
            "justify_content": null,
            "justify_items": null,
            "left": null,
            "margin": null,
            "max_height": null,
            "max_width": null,
            "min_height": null,
            "min_width": null,
            "object_fit": null,
            "object_position": null,
            "order": null,
            "overflow": null,
            "overflow_x": null,
            "overflow_y": null,
            "padding": null,
            "right": null,
            "top": null,
            "visibility": null,
            "width": null
          }
        },
        "11b198bdc70e4f6d9b5467c658315648": {
          "model_module": "@jupyter-widgets/base",
          "model_name": "LayoutModel",
          "model_module_version": "1.2.0",
          "state": {
            "_model_module": "@jupyter-widgets/base",
            "_model_module_version": "1.2.0",
            "_model_name": "LayoutModel",
            "_view_count": null,
            "_view_module": "@jupyter-widgets/base",
            "_view_module_version": "1.2.0",
            "_view_name": "LayoutView",
            "align_content": null,
            "align_items": null,
            "align_self": null,
            "border": null,
            "bottom": null,
            "display": null,
            "flex": null,
            "flex_flow": null,
            "grid_area": null,
            "grid_auto_columns": null,
            "grid_auto_flow": null,
            "grid_auto_rows": null,
            "grid_column": null,
            "grid_gap": null,
            "grid_row": null,
            "grid_template_areas": null,
            "grid_template_columns": null,
            "grid_template_rows": null,
            "height": null,
            "justify_content": null,
            "justify_items": null,
            "left": null,
            "margin": null,
            "max_height": null,
            "max_width": null,
            "min_height": null,
            "min_width": null,
            "object_fit": null,
            "object_position": null,
            "order": null,
            "overflow": null,
            "overflow_x": null,
            "overflow_y": null,
            "padding": null,
            "right": null,
            "top": null,
            "visibility": null,
            "width": null
          }
        },
        "a7ecc885bb094ef396835a4492a34661": {
          "model_module": "@jupyter-widgets/controls",
          "model_name": "DescriptionStyleModel",
          "model_module_version": "1.5.0",
          "state": {
            "_model_module": "@jupyter-widgets/controls",
            "_model_module_version": "1.5.0",
            "_model_name": "DescriptionStyleModel",
            "_view_count": null,
            "_view_module": "@jupyter-widgets/base",
            "_view_module_version": "1.2.0",
            "_view_name": "StyleView",
            "description_width": ""
          }
        },
        "16ed2a01806640b98ab1fd6ad92db348": {
          "model_module": "@jupyter-widgets/base",
          "model_name": "LayoutModel",
          "model_module_version": "1.2.0",
          "state": {
            "_model_module": "@jupyter-widgets/base",
            "_model_module_version": "1.2.0",
            "_model_name": "LayoutModel",
            "_view_count": null,
            "_view_module": "@jupyter-widgets/base",
            "_view_module_version": "1.2.0",
            "_view_name": "LayoutView",
            "align_content": null,
            "align_items": null,
            "align_self": null,
            "border": null,
            "bottom": null,
            "display": null,
            "flex": null,
            "flex_flow": null,
            "grid_area": null,
            "grid_auto_columns": null,
            "grid_auto_flow": null,
            "grid_auto_rows": null,
            "grid_column": null,
            "grid_gap": null,
            "grid_row": null,
            "grid_template_areas": null,
            "grid_template_columns": null,
            "grid_template_rows": null,
            "height": null,
            "justify_content": null,
            "justify_items": null,
            "left": null,
            "margin": null,
            "max_height": null,
            "max_width": null,
            "min_height": null,
            "min_width": null,
            "object_fit": null,
            "object_position": null,
            "order": null,
            "overflow": null,
            "overflow_x": null,
            "overflow_y": null,
            "padding": null,
            "right": null,
            "top": null,
            "visibility": null,
            "width": null
          }
        },
        "de9ac8a19f924285a225076120296e9c": {
          "model_module": "@jupyter-widgets/controls",
          "model_name": "ProgressStyleModel",
          "model_module_version": "1.5.0",
          "state": {
            "_model_module": "@jupyter-widgets/controls",
            "_model_module_version": "1.5.0",
            "_model_name": "ProgressStyleModel",
            "_view_count": null,
            "_view_module": "@jupyter-widgets/base",
            "_view_module_version": "1.2.0",
            "_view_name": "StyleView",
            "bar_color": null,
            "description_width": ""
          }
        },
        "772ff3a1aeb74f30b05bd7b31e05d722": {
          "model_module": "@jupyter-widgets/base",
          "model_name": "LayoutModel",
          "model_module_version": "1.2.0",
          "state": {
            "_model_module": "@jupyter-widgets/base",
            "_model_module_version": "1.2.0",
            "_model_name": "LayoutModel",
            "_view_count": null,
            "_view_module": "@jupyter-widgets/base",
            "_view_module_version": "1.2.0",
            "_view_name": "LayoutView",
            "align_content": null,
            "align_items": null,
            "align_self": null,
            "border": null,
            "bottom": null,
            "display": null,
            "flex": null,
            "flex_flow": null,
            "grid_area": null,
            "grid_auto_columns": null,
            "grid_auto_flow": null,
            "grid_auto_rows": null,
            "grid_column": null,
            "grid_gap": null,
            "grid_row": null,
            "grid_template_areas": null,
            "grid_template_columns": null,
            "grid_template_rows": null,
            "height": null,
            "justify_content": null,
            "justify_items": null,
            "left": null,
            "margin": null,
            "max_height": null,
            "max_width": null,
            "min_height": null,
            "min_width": null,
            "object_fit": null,
            "object_position": null,
            "order": null,
            "overflow": null,
            "overflow_x": null,
            "overflow_y": null,
            "padding": null,
            "right": null,
            "top": null,
            "visibility": null,
            "width": null
          }
        },
        "a28922f3b5b94c73b0518c7367462453": {
          "model_module": "@jupyter-widgets/controls",
          "model_name": "DescriptionStyleModel",
          "model_module_version": "1.5.0",
          "state": {
            "_model_module": "@jupyter-widgets/controls",
            "_model_module_version": "1.5.0",
            "_model_name": "DescriptionStyleModel",
            "_view_count": null,
            "_view_module": "@jupyter-widgets/base",
            "_view_module_version": "1.2.0",
            "_view_name": "StyleView",
            "description_width": ""
          }
        },
        "1fa0bc6f78244087bc0cab71c2137803": {
          "model_module": "@jupyter-widgets/controls",
          "model_name": "HBoxModel",
          "model_module_version": "1.5.0",
          "state": {
            "_dom_classes": [],
            "_model_module": "@jupyter-widgets/controls",
            "_model_module_version": "1.5.0",
            "_model_name": "HBoxModel",
            "_view_count": null,
            "_view_module": "@jupyter-widgets/controls",
            "_view_module_version": "1.5.0",
            "_view_name": "HBoxView",
            "box_style": "",
            "children": [
              "IPY_MODEL_827200dd11574af993161da566ce1790",
              "IPY_MODEL_220cff9cf67b4629b4165573662ae505",
              "IPY_MODEL_cdf7f9d2222a477ca533fddaffe35f85"
            ],
            "layout": "IPY_MODEL_e8f0f7c125e941efa2a669e0d833f848"
          }
        },
        "827200dd11574af993161da566ce1790": {
          "model_module": "@jupyter-widgets/controls",
          "model_name": "HTMLModel",
          "model_module_version": "1.5.0",
          "state": {
            "_dom_classes": [],
            "_model_module": "@jupyter-widgets/controls",
            "_model_module_version": "1.5.0",
            "_model_name": "HTMLModel",
            "_view_count": null,
            "_view_module": "@jupyter-widgets/controls",
            "_view_module_version": "1.5.0",
            "_view_name": "HTMLView",
            "description": "",
            "description_tooltip": null,
            "layout": "IPY_MODEL_eb3033511e424a02b4a4272470d9e3d8",
            "placeholder": "​",
            "style": "IPY_MODEL_b51e6ff195c7477794cf016ecf6dc79d",
            "value": "Downloading pytorch_model.bin: 100%"
          }
        },
        "220cff9cf67b4629b4165573662ae505": {
          "model_module": "@jupyter-widgets/controls",
          "model_name": "FloatProgressModel",
          "model_module_version": "1.5.0",
          "state": {
            "_dom_classes": [],
            "_model_module": "@jupyter-widgets/controls",
            "_model_module_version": "1.5.0",
            "_model_name": "FloatProgressModel",
            "_view_count": null,
            "_view_module": "@jupyter-widgets/controls",
            "_view_module_version": "1.5.0",
            "_view_name": "ProgressView",
            "bar_style": "success",
            "description": "",
            "description_tooltip": null,
            "layout": "IPY_MODEL_470a13bfa8bb464b9dec68c516fe2f01",
            "max": 1340675298,
            "min": 0,
            "orientation": "horizontal",
            "style": "IPY_MODEL_3b0f4b52351c411da0db873ace83eadf",
            "value": 1340675298
          }
        },
        "cdf7f9d2222a477ca533fddaffe35f85": {
          "model_module": "@jupyter-widgets/controls",
          "model_name": "HTMLModel",
          "model_module_version": "1.5.0",
          "state": {
            "_dom_classes": [],
            "_model_module": "@jupyter-widgets/controls",
            "_model_module_version": "1.5.0",
            "_model_name": "HTMLModel",
            "_view_count": null,
            "_view_module": "@jupyter-widgets/controls",
            "_view_module_version": "1.5.0",
            "_view_name": "HTMLView",
            "description": "",
            "description_tooltip": null,
            "layout": "IPY_MODEL_e8752e30730b43bd80a3e30fa1ec55c0",
            "placeholder": "​",
            "style": "IPY_MODEL_ac9c5c20d8964a5d9dc3228f364625d0",
            "value": " 1.34G/1.34G [00:14&lt;00:00, 91.6MB/s]"
          }
        },
        "e8f0f7c125e941efa2a669e0d833f848": {
          "model_module": "@jupyter-widgets/base",
          "model_name": "LayoutModel",
          "model_module_version": "1.2.0",
          "state": {
            "_model_module": "@jupyter-widgets/base",
            "_model_module_version": "1.2.0",
            "_model_name": "LayoutModel",
            "_view_count": null,
            "_view_module": "@jupyter-widgets/base",
            "_view_module_version": "1.2.0",
            "_view_name": "LayoutView",
            "align_content": null,
            "align_items": null,
            "align_self": null,
            "border": null,
            "bottom": null,
            "display": null,
            "flex": null,
            "flex_flow": null,
            "grid_area": null,
            "grid_auto_columns": null,
            "grid_auto_flow": null,
            "grid_auto_rows": null,
            "grid_column": null,
            "grid_gap": null,
            "grid_row": null,
            "grid_template_areas": null,
            "grid_template_columns": null,
            "grid_template_rows": null,
            "height": null,
            "justify_content": null,
            "justify_items": null,
            "left": null,
            "margin": null,
            "max_height": null,
            "max_width": null,
            "min_height": null,
            "min_width": null,
            "object_fit": null,
            "object_position": null,
            "order": null,
            "overflow": null,
            "overflow_x": null,
            "overflow_y": null,
            "padding": null,
            "right": null,
            "top": null,
            "visibility": null,
            "width": null
          }
        },
        "eb3033511e424a02b4a4272470d9e3d8": {
          "model_module": "@jupyter-widgets/base",
          "model_name": "LayoutModel",
          "model_module_version": "1.2.0",
          "state": {
            "_model_module": "@jupyter-widgets/base",
            "_model_module_version": "1.2.0",
            "_model_name": "LayoutModel",
            "_view_count": null,
            "_view_module": "@jupyter-widgets/base",
            "_view_module_version": "1.2.0",
            "_view_name": "LayoutView",
            "align_content": null,
            "align_items": null,
            "align_self": null,
            "border": null,
            "bottom": null,
            "display": null,
            "flex": null,
            "flex_flow": null,
            "grid_area": null,
            "grid_auto_columns": null,
            "grid_auto_flow": null,
            "grid_auto_rows": null,
            "grid_column": null,
            "grid_gap": null,
            "grid_row": null,
            "grid_template_areas": null,
            "grid_template_columns": null,
            "grid_template_rows": null,
            "height": null,
            "justify_content": null,
            "justify_items": null,
            "left": null,
            "margin": null,
            "max_height": null,
            "max_width": null,
            "min_height": null,
            "min_width": null,
            "object_fit": null,
            "object_position": null,
            "order": null,
            "overflow": null,
            "overflow_x": null,
            "overflow_y": null,
            "padding": null,
            "right": null,
            "top": null,
            "visibility": null,
            "width": null
          }
        },
        "b51e6ff195c7477794cf016ecf6dc79d": {
          "model_module": "@jupyter-widgets/controls",
          "model_name": "DescriptionStyleModel",
          "model_module_version": "1.5.0",
          "state": {
            "_model_module": "@jupyter-widgets/controls",
            "_model_module_version": "1.5.0",
            "_model_name": "DescriptionStyleModel",
            "_view_count": null,
            "_view_module": "@jupyter-widgets/base",
            "_view_module_version": "1.2.0",
            "_view_name": "StyleView",
            "description_width": ""
          }
        },
        "470a13bfa8bb464b9dec68c516fe2f01": {
          "model_module": "@jupyter-widgets/base",
          "model_name": "LayoutModel",
          "model_module_version": "1.2.0",
          "state": {
            "_model_module": "@jupyter-widgets/base",
            "_model_module_version": "1.2.0",
            "_model_name": "LayoutModel",
            "_view_count": null,
            "_view_module": "@jupyter-widgets/base",
            "_view_module_version": "1.2.0",
            "_view_name": "LayoutView",
            "align_content": null,
            "align_items": null,
            "align_self": null,
            "border": null,
            "bottom": null,
            "display": null,
            "flex": null,
            "flex_flow": null,
            "grid_area": null,
            "grid_auto_columns": null,
            "grid_auto_flow": null,
            "grid_auto_rows": null,
            "grid_column": null,
            "grid_gap": null,
            "grid_row": null,
            "grid_template_areas": null,
            "grid_template_columns": null,
            "grid_template_rows": null,
            "height": null,
            "justify_content": null,
            "justify_items": null,
            "left": null,
            "margin": null,
            "max_height": null,
            "max_width": null,
            "min_height": null,
            "min_width": null,
            "object_fit": null,
            "object_position": null,
            "order": null,
            "overflow": null,
            "overflow_x": null,
            "overflow_y": null,
            "padding": null,
            "right": null,
            "top": null,
            "visibility": null,
            "width": null
          }
        },
        "3b0f4b52351c411da0db873ace83eadf": {
          "model_module": "@jupyter-widgets/controls",
          "model_name": "ProgressStyleModel",
          "model_module_version": "1.5.0",
          "state": {
            "_model_module": "@jupyter-widgets/controls",
            "_model_module_version": "1.5.0",
            "_model_name": "ProgressStyleModel",
            "_view_count": null,
            "_view_module": "@jupyter-widgets/base",
            "_view_module_version": "1.2.0",
            "_view_name": "StyleView",
            "bar_color": null,
            "description_width": ""
          }
        },
        "e8752e30730b43bd80a3e30fa1ec55c0": {
          "model_module": "@jupyter-widgets/base",
          "model_name": "LayoutModel",
          "model_module_version": "1.2.0",
          "state": {
            "_model_module": "@jupyter-widgets/base",
            "_model_module_version": "1.2.0",
            "_model_name": "LayoutModel",
            "_view_count": null,
            "_view_module": "@jupyter-widgets/base",
            "_view_module_version": "1.2.0",
            "_view_name": "LayoutView",
            "align_content": null,
            "align_items": null,
            "align_self": null,
            "border": null,
            "bottom": null,
            "display": null,
            "flex": null,
            "flex_flow": null,
            "grid_area": null,
            "grid_auto_columns": null,
            "grid_auto_flow": null,
            "grid_auto_rows": null,
            "grid_column": null,
            "grid_gap": null,
            "grid_row": null,
            "grid_template_areas": null,
            "grid_template_columns": null,
            "grid_template_rows": null,
            "height": null,
            "justify_content": null,
            "justify_items": null,
            "left": null,
            "margin": null,
            "max_height": null,
            "max_width": null,
            "min_height": null,
            "min_width": null,
            "object_fit": null,
            "object_position": null,
            "order": null,
            "overflow": null,
            "overflow_x": null,
            "overflow_y": null,
            "padding": null,
            "right": null,
            "top": null,
            "visibility": null,
            "width": null
          }
        },
        "ac9c5c20d8964a5d9dc3228f364625d0": {
          "model_module": "@jupyter-widgets/controls",
          "model_name": "DescriptionStyleModel",
          "model_module_version": "1.5.0",
          "state": {
            "_model_module": "@jupyter-widgets/controls",
            "_model_module_version": "1.5.0",
            "_model_name": "DescriptionStyleModel",
            "_view_count": null,
            "_view_module": "@jupyter-widgets/base",
            "_view_module_version": "1.2.0",
            "_view_name": "StyleView",
            "description_width": ""
          }
        },
        "d501cf76ad414242857c8206e3080359": {
          "model_module": "@jupyter-widgets/controls",
          "model_name": "HBoxModel",
          "model_module_version": "1.5.0",
          "state": {
            "_dom_classes": [],
            "_model_module": "@jupyter-widgets/controls",
            "_model_module_version": "1.5.0",
            "_model_name": "HBoxModel",
            "_view_count": null,
            "_view_module": "@jupyter-widgets/controls",
            "_view_module_version": "1.5.0",
            "_view_name": "HBoxView",
            "box_style": "",
            "children": [
              "IPY_MODEL_fe474e3fd16f4ee7b5c66cb975191696",
              "IPY_MODEL_a815c22ab9954197a513f48b0e5406af",
              "IPY_MODEL_225fce1401ef49c284a0fa3c15e5799f"
            ],
            "layout": "IPY_MODEL_d59407f689414a0e8102322c6719ecb6"
          }
        },
        "fe474e3fd16f4ee7b5c66cb975191696": {
          "model_module": "@jupyter-widgets/controls",
          "model_name": "HTMLModel",
          "model_module_version": "1.5.0",
          "state": {
            "_dom_classes": [],
            "_model_module": "@jupyter-widgets/controls",
            "_model_module_version": "1.5.0",
            "_model_name": "HTMLModel",
            "_view_count": null,
            "_view_module": "@jupyter-widgets/controls",
            "_view_module_version": "1.5.0",
            "_view_name": "HTMLView",
            "description": "",
            "description_tooltip": null,
            "layout": "IPY_MODEL_980ed6c8bbab4f1d8abc5cc3e5bffd77",
            "placeholder": "​",
            "style": "IPY_MODEL_f7814e9739ca4ead80f2c73711bb2a36",
            "value": "Downloading (…)solve/main/vocab.txt: 100%"
          }
        },
        "a815c22ab9954197a513f48b0e5406af": {
          "model_module": "@jupyter-widgets/controls",
          "model_name": "FloatProgressModel",
          "model_module_version": "1.5.0",
          "state": {
            "_dom_classes": [],
            "_model_module": "@jupyter-widgets/controls",
            "_model_module_version": "1.5.0",
            "_model_name": "FloatProgressModel",
            "_view_count": null,
            "_view_module": "@jupyter-widgets/controls",
            "_view_module_version": "1.5.0",
            "_view_name": "ProgressView",
            "bar_style": "success",
            "description": "",
            "description_tooltip": null,
            "layout": "IPY_MODEL_766afc2ae39a4ac293073c82d5567a18",
            "max": 231508,
            "min": 0,
            "orientation": "horizontal",
            "style": "IPY_MODEL_b590081a43c2408380623d062e251d7b",
            "value": 231508
          }
        },
        "225fce1401ef49c284a0fa3c15e5799f": {
          "model_module": "@jupyter-widgets/controls",
          "model_name": "HTMLModel",
          "model_module_version": "1.5.0",
          "state": {
            "_dom_classes": [],
            "_model_module": "@jupyter-widgets/controls",
            "_model_module_version": "1.5.0",
            "_model_name": "HTMLModel",
            "_view_count": null,
            "_view_module": "@jupyter-widgets/controls",
            "_view_module_version": "1.5.0",
            "_view_name": "HTMLView",
            "description": "",
            "description_tooltip": null,
            "layout": "IPY_MODEL_c6df6cb29ed941c08b6ab9214655995b",
            "placeholder": "​",
            "style": "IPY_MODEL_88cb71d93c27448392a54fdf0252b02b",
            "value": " 232k/232k [00:00&lt;00:00, 5.81MB/s]"
          }
        },
        "d59407f689414a0e8102322c6719ecb6": {
          "model_module": "@jupyter-widgets/base",
          "model_name": "LayoutModel",
          "model_module_version": "1.2.0",
          "state": {
            "_model_module": "@jupyter-widgets/base",
            "_model_module_version": "1.2.0",
            "_model_name": "LayoutModel",
            "_view_count": null,
            "_view_module": "@jupyter-widgets/base",
            "_view_module_version": "1.2.0",
            "_view_name": "LayoutView",
            "align_content": null,
            "align_items": null,
            "align_self": null,
            "border": null,
            "bottom": null,
            "display": null,
            "flex": null,
            "flex_flow": null,
            "grid_area": null,
            "grid_auto_columns": null,
            "grid_auto_flow": null,
            "grid_auto_rows": null,
            "grid_column": null,
            "grid_gap": null,
            "grid_row": null,
            "grid_template_areas": null,
            "grid_template_columns": null,
            "grid_template_rows": null,
            "height": null,
            "justify_content": null,
            "justify_items": null,
            "left": null,
            "margin": null,
            "max_height": null,
            "max_width": null,
            "min_height": null,
            "min_width": null,
            "object_fit": null,
            "object_position": null,
            "order": null,
            "overflow": null,
            "overflow_x": null,
            "overflow_y": null,
            "padding": null,
            "right": null,
            "top": null,
            "visibility": null,
            "width": null
          }
        },
        "980ed6c8bbab4f1d8abc5cc3e5bffd77": {
          "model_module": "@jupyter-widgets/base",
          "model_name": "LayoutModel",
          "model_module_version": "1.2.0",
          "state": {
            "_model_module": "@jupyter-widgets/base",
            "_model_module_version": "1.2.0",
            "_model_name": "LayoutModel",
            "_view_count": null,
            "_view_module": "@jupyter-widgets/base",
            "_view_module_version": "1.2.0",
            "_view_name": "LayoutView",
            "align_content": null,
            "align_items": null,
            "align_self": null,
            "border": null,
            "bottom": null,
            "display": null,
            "flex": null,
            "flex_flow": null,
            "grid_area": null,
            "grid_auto_columns": null,
            "grid_auto_flow": null,
            "grid_auto_rows": null,
            "grid_column": null,
            "grid_gap": null,
            "grid_row": null,
            "grid_template_areas": null,
            "grid_template_columns": null,
            "grid_template_rows": null,
            "height": null,
            "justify_content": null,
            "justify_items": null,
            "left": null,
            "margin": null,
            "max_height": null,
            "max_width": null,
            "min_height": null,
            "min_width": null,
            "object_fit": null,
            "object_position": null,
            "order": null,
            "overflow": null,
            "overflow_x": null,
            "overflow_y": null,
            "padding": null,
            "right": null,
            "top": null,
            "visibility": null,
            "width": null
          }
        },
        "f7814e9739ca4ead80f2c73711bb2a36": {
          "model_module": "@jupyter-widgets/controls",
          "model_name": "DescriptionStyleModel",
          "model_module_version": "1.5.0",
          "state": {
            "_model_module": "@jupyter-widgets/controls",
            "_model_module_version": "1.5.0",
            "_model_name": "DescriptionStyleModel",
            "_view_count": null,
            "_view_module": "@jupyter-widgets/base",
            "_view_module_version": "1.2.0",
            "_view_name": "StyleView",
            "description_width": ""
          }
        },
        "766afc2ae39a4ac293073c82d5567a18": {
          "model_module": "@jupyter-widgets/base",
          "model_name": "LayoutModel",
          "model_module_version": "1.2.0",
          "state": {
            "_model_module": "@jupyter-widgets/base",
            "_model_module_version": "1.2.0",
            "_model_name": "LayoutModel",
            "_view_count": null,
            "_view_module": "@jupyter-widgets/base",
            "_view_module_version": "1.2.0",
            "_view_name": "LayoutView",
            "align_content": null,
            "align_items": null,
            "align_self": null,
            "border": null,
            "bottom": null,
            "display": null,
            "flex": null,
            "flex_flow": null,
            "grid_area": null,
            "grid_auto_columns": null,
            "grid_auto_flow": null,
            "grid_auto_rows": null,
            "grid_column": null,
            "grid_gap": null,
            "grid_row": null,
            "grid_template_areas": null,
            "grid_template_columns": null,
            "grid_template_rows": null,
            "height": null,
            "justify_content": null,
            "justify_items": null,
            "left": null,
            "margin": null,
            "max_height": null,
            "max_width": null,
            "min_height": null,
            "min_width": null,
            "object_fit": null,
            "object_position": null,
            "order": null,
            "overflow": null,
            "overflow_x": null,
            "overflow_y": null,
            "padding": null,
            "right": null,
            "top": null,
            "visibility": null,
            "width": null
          }
        },
        "b590081a43c2408380623d062e251d7b": {
          "model_module": "@jupyter-widgets/controls",
          "model_name": "ProgressStyleModel",
          "model_module_version": "1.5.0",
          "state": {
            "_model_module": "@jupyter-widgets/controls",
            "_model_module_version": "1.5.0",
            "_model_name": "ProgressStyleModel",
            "_view_count": null,
            "_view_module": "@jupyter-widgets/base",
            "_view_module_version": "1.2.0",
            "_view_name": "StyleView",
            "bar_color": null,
            "description_width": ""
          }
        },
        "c6df6cb29ed941c08b6ab9214655995b": {
          "model_module": "@jupyter-widgets/base",
          "model_name": "LayoutModel",
          "model_module_version": "1.2.0",
          "state": {
            "_model_module": "@jupyter-widgets/base",
            "_model_module_version": "1.2.0",
            "_model_name": "LayoutModel",
            "_view_count": null,
            "_view_module": "@jupyter-widgets/base",
            "_view_module_version": "1.2.0",
            "_view_name": "LayoutView",
            "align_content": null,
            "align_items": null,
            "align_self": null,
            "border": null,
            "bottom": null,
            "display": null,
            "flex": null,
            "flex_flow": null,
            "grid_area": null,
            "grid_auto_columns": null,
            "grid_auto_flow": null,
            "grid_auto_rows": null,
            "grid_column": null,
            "grid_gap": null,
            "grid_row": null,
            "grid_template_areas": null,
            "grid_template_columns": null,
            "grid_template_rows": null,
            "height": null,
            "justify_content": null,
            "justify_items": null,
            "left": null,
            "margin": null,
            "max_height": null,
            "max_width": null,
            "min_height": null,
            "min_width": null,
            "object_fit": null,
            "object_position": null,
            "order": null,
            "overflow": null,
            "overflow_x": null,
            "overflow_y": null,
            "padding": null,
            "right": null,
            "top": null,
            "visibility": null,
            "width": null
          }
        },
        "88cb71d93c27448392a54fdf0252b02b": {
          "model_module": "@jupyter-widgets/controls",
          "model_name": "DescriptionStyleModel",
          "model_module_version": "1.5.0",
          "state": {
            "_model_module": "@jupyter-widgets/controls",
            "_model_module_version": "1.5.0",
            "_model_name": "DescriptionStyleModel",
            "_view_count": null,
            "_view_module": "@jupyter-widgets/base",
            "_view_module_version": "1.2.0",
            "_view_name": "StyleView",
            "description_width": ""
          }
        },
        "6b9727e3bb8c4483866adcf7c89f7117": {
          "model_module": "@jupyter-widgets/controls",
          "model_name": "HBoxModel",
          "model_module_version": "1.5.0",
          "state": {
            "_dom_classes": [],
            "_model_module": "@jupyter-widgets/controls",
            "_model_module_version": "1.5.0",
            "_model_name": "HBoxModel",
            "_view_count": null,
            "_view_module": "@jupyter-widgets/controls",
            "_view_module_version": "1.5.0",
            "_view_name": "HBoxView",
            "box_style": "",
            "children": [
              "IPY_MODEL_b3f881c7290a4f3396a0f001df96f93f",
              "IPY_MODEL_a8762803d079407f8b40e4b135881757",
              "IPY_MODEL_b32462fb954e445abefe8b65deccaf9a"
            ],
            "layout": "IPY_MODEL_599e0179198e4f0f90050209e7c608f0"
          }
        },
        "b3f881c7290a4f3396a0f001df96f93f": {
          "model_module": "@jupyter-widgets/controls",
          "model_name": "HTMLModel",
          "model_module_version": "1.5.0",
          "state": {
            "_dom_classes": [],
            "_model_module": "@jupyter-widgets/controls",
            "_model_module_version": "1.5.0",
            "_model_name": "HTMLModel",
            "_view_count": null,
            "_view_module": "@jupyter-widgets/controls",
            "_view_module_version": "1.5.0",
            "_view_name": "HTMLView",
            "description": "",
            "description_tooltip": null,
            "layout": "IPY_MODEL_8353c5095c9e42559ffeeefb20282475",
            "placeholder": "​",
            "style": "IPY_MODEL_dafae9ec4a76482ca1bf1ae3ae41737f",
            "value": "Downloading (…)okenizer_config.json: 100%"
          }
        },
        "a8762803d079407f8b40e4b135881757": {
          "model_module": "@jupyter-widgets/controls",
          "model_name": "FloatProgressModel",
          "model_module_version": "1.5.0",
          "state": {
            "_dom_classes": [],
            "_model_module": "@jupyter-widgets/controls",
            "_model_module_version": "1.5.0",
            "_model_name": "FloatProgressModel",
            "_view_count": null,
            "_view_module": "@jupyter-widgets/controls",
            "_view_module_version": "1.5.0",
            "_view_name": "ProgressView",
            "bar_style": "success",
            "description": "",
            "description_tooltip": null,
            "layout": "IPY_MODEL_f90d4ddaa83a47dca6fd1e2b0d2b8c6f",
            "max": 28,
            "min": 0,
            "orientation": "horizontal",
            "style": "IPY_MODEL_e5b87b5a5c934779bf598ca844dc457f",
            "value": 28
          }
        },
        "b32462fb954e445abefe8b65deccaf9a": {
          "model_module": "@jupyter-widgets/controls",
          "model_name": "HTMLModel",
          "model_module_version": "1.5.0",
          "state": {
            "_dom_classes": [],
            "_model_module": "@jupyter-widgets/controls",
            "_model_module_version": "1.5.0",
            "_model_name": "HTMLModel",
            "_view_count": null,
            "_view_module": "@jupyter-widgets/controls",
            "_view_module_version": "1.5.0",
            "_view_name": "HTMLView",
            "description": "",
            "description_tooltip": null,
            "layout": "IPY_MODEL_d853d6247367405b89a774b8f0c0d542",
            "placeholder": "​",
            "style": "IPY_MODEL_b0fb075efade4b589b8e8e26e7f1029e",
            "value": " 28.0/28.0 [00:00&lt;00:00, 712B/s]"
          }
        },
        "599e0179198e4f0f90050209e7c608f0": {
          "model_module": "@jupyter-widgets/base",
          "model_name": "LayoutModel",
          "model_module_version": "1.2.0",
          "state": {
            "_model_module": "@jupyter-widgets/base",
            "_model_module_version": "1.2.0",
            "_model_name": "LayoutModel",
            "_view_count": null,
            "_view_module": "@jupyter-widgets/base",
            "_view_module_version": "1.2.0",
            "_view_name": "LayoutView",
            "align_content": null,
            "align_items": null,
            "align_self": null,
            "border": null,
            "bottom": null,
            "display": null,
            "flex": null,
            "flex_flow": null,
            "grid_area": null,
            "grid_auto_columns": null,
            "grid_auto_flow": null,
            "grid_auto_rows": null,
            "grid_column": null,
            "grid_gap": null,
            "grid_row": null,
            "grid_template_areas": null,
            "grid_template_columns": null,
            "grid_template_rows": null,
            "height": null,
            "justify_content": null,
            "justify_items": null,
            "left": null,
            "margin": null,
            "max_height": null,
            "max_width": null,
            "min_height": null,
            "min_width": null,
            "object_fit": null,
            "object_position": null,
            "order": null,
            "overflow": null,
            "overflow_x": null,
            "overflow_y": null,
            "padding": null,
            "right": null,
            "top": null,
            "visibility": null,
            "width": null
          }
        },
        "8353c5095c9e42559ffeeefb20282475": {
          "model_module": "@jupyter-widgets/base",
          "model_name": "LayoutModel",
          "model_module_version": "1.2.0",
          "state": {
            "_model_module": "@jupyter-widgets/base",
            "_model_module_version": "1.2.0",
            "_model_name": "LayoutModel",
            "_view_count": null,
            "_view_module": "@jupyter-widgets/base",
            "_view_module_version": "1.2.0",
            "_view_name": "LayoutView",
            "align_content": null,
            "align_items": null,
            "align_self": null,
            "border": null,
            "bottom": null,
            "display": null,
            "flex": null,
            "flex_flow": null,
            "grid_area": null,
            "grid_auto_columns": null,
            "grid_auto_flow": null,
            "grid_auto_rows": null,
            "grid_column": null,
            "grid_gap": null,
            "grid_row": null,
            "grid_template_areas": null,
            "grid_template_columns": null,
            "grid_template_rows": null,
            "height": null,
            "justify_content": null,
            "justify_items": null,
            "left": null,
            "margin": null,
            "max_height": null,
            "max_width": null,
            "min_height": null,
            "min_width": null,
            "object_fit": null,
            "object_position": null,
            "order": null,
            "overflow": null,
            "overflow_x": null,
            "overflow_y": null,
            "padding": null,
            "right": null,
            "top": null,
            "visibility": null,
            "width": null
          }
        },
        "dafae9ec4a76482ca1bf1ae3ae41737f": {
          "model_module": "@jupyter-widgets/controls",
          "model_name": "DescriptionStyleModel",
          "model_module_version": "1.5.0",
          "state": {
            "_model_module": "@jupyter-widgets/controls",
            "_model_module_version": "1.5.0",
            "_model_name": "DescriptionStyleModel",
            "_view_count": null,
            "_view_module": "@jupyter-widgets/base",
            "_view_module_version": "1.2.0",
            "_view_name": "StyleView",
            "description_width": ""
          }
        },
        "f90d4ddaa83a47dca6fd1e2b0d2b8c6f": {
          "model_module": "@jupyter-widgets/base",
          "model_name": "LayoutModel",
          "model_module_version": "1.2.0",
          "state": {
            "_model_module": "@jupyter-widgets/base",
            "_model_module_version": "1.2.0",
            "_model_name": "LayoutModel",
            "_view_count": null,
            "_view_module": "@jupyter-widgets/base",
            "_view_module_version": "1.2.0",
            "_view_name": "LayoutView",
            "align_content": null,
            "align_items": null,
            "align_self": null,
            "border": null,
            "bottom": null,
            "display": null,
            "flex": null,
            "flex_flow": null,
            "grid_area": null,
            "grid_auto_columns": null,
            "grid_auto_flow": null,
            "grid_auto_rows": null,
            "grid_column": null,
            "grid_gap": null,
            "grid_row": null,
            "grid_template_areas": null,
            "grid_template_columns": null,
            "grid_template_rows": null,
            "height": null,
            "justify_content": null,
            "justify_items": null,
            "left": null,
            "margin": null,
            "max_height": null,
            "max_width": null,
            "min_height": null,
            "min_width": null,
            "object_fit": null,
            "object_position": null,
            "order": null,
            "overflow": null,
            "overflow_x": null,
            "overflow_y": null,
            "padding": null,
            "right": null,
            "top": null,
            "visibility": null,
            "width": null
          }
        },
        "e5b87b5a5c934779bf598ca844dc457f": {
          "model_module": "@jupyter-widgets/controls",
          "model_name": "ProgressStyleModel",
          "model_module_version": "1.5.0",
          "state": {
            "_model_module": "@jupyter-widgets/controls",
            "_model_module_version": "1.5.0",
            "_model_name": "ProgressStyleModel",
            "_view_count": null,
            "_view_module": "@jupyter-widgets/base",
            "_view_module_version": "1.2.0",
            "_view_name": "StyleView",
            "bar_color": null,
            "description_width": ""
          }
        },
        "d853d6247367405b89a774b8f0c0d542": {
          "model_module": "@jupyter-widgets/base",
          "model_name": "LayoutModel",
          "model_module_version": "1.2.0",
          "state": {
            "_model_module": "@jupyter-widgets/base",
            "_model_module_version": "1.2.0",
            "_model_name": "LayoutModel",
            "_view_count": null,
            "_view_module": "@jupyter-widgets/base",
            "_view_module_version": "1.2.0",
            "_view_name": "LayoutView",
            "align_content": null,
            "align_items": null,
            "align_self": null,
            "border": null,
            "bottom": null,
            "display": null,
            "flex": null,
            "flex_flow": null,
            "grid_area": null,
            "grid_auto_columns": null,
            "grid_auto_flow": null,
            "grid_auto_rows": null,
            "grid_column": null,
            "grid_gap": null,
            "grid_row": null,
            "grid_template_areas": null,
            "grid_template_columns": null,
            "grid_template_rows": null,
            "height": null,
            "justify_content": null,
            "justify_items": null,
            "left": null,
            "margin": null,
            "max_height": null,
            "max_width": null,
            "min_height": null,
            "min_width": null,
            "object_fit": null,
            "object_position": null,
            "order": null,
            "overflow": null,
            "overflow_x": null,
            "overflow_y": null,
            "padding": null,
            "right": null,
            "top": null,
            "visibility": null,
            "width": null
          }
        },
        "b0fb075efade4b589b8e8e26e7f1029e": {
          "model_module": "@jupyter-widgets/controls",
          "model_name": "DescriptionStyleModel",
          "model_module_version": "1.5.0",
          "state": {
            "_model_module": "@jupyter-widgets/controls",
            "_model_module_version": "1.5.0",
            "_model_name": "DescriptionStyleModel",
            "_view_count": null,
            "_view_module": "@jupyter-widgets/base",
            "_view_module_version": "1.2.0",
            "_view_name": "StyleView",
            "description_width": ""
          }
        }
      }
    }
  },
  "cells": [
    {
      "cell_type": "markdown",
      "metadata": {
        "id": "view-in-github",
        "colab_type": "text"
      },
      "source": [
        "<a href=\"https://colab.research.google.com/github/sahiliem/colab/blob/main/CoQA_BERT_QuestionAnswering.ipynb\" target=\"_parent\"><img src=\"https://colab.research.google.com/assets/colab-badge.svg\" alt=\"Open In Colab\"/></a>"
      ]
    },
    {
      "cell_type": "markdown",
      "metadata": {
        "id": "i9w0yLXQmhvg"
      },
      "source": [
        "## Question Answering with a fine-tuned BERT on CoQA dataset\n",
        "\n",
        "### Importing the libraries"
      ]
    },
    {
      "cell_type": "code",
      "execution_count": 1,
      "metadata": {
        "colab": {
          "base_uri": "https://localhost:8080/"
        },
        "id": "Dovpzhx7mhvl",
        "outputId": "38ea06b4-51a3-40f3-b416-17b44ae29038"
      },
      "outputs": [
        {
          "output_type": "stream",
          "name": "stdout",
          "text": [
            "Looking in indexes: https://pypi.org/simple, https://us-python.pkg.dev/colab-wheels/public/simple/\n",
            "Collecting transformers\n",
            "  Downloading transformers-4.26.1-py3-none-any.whl (6.3 MB)\n",
            "\u001b[2K     \u001b[90m━━━━━━━━━━━━━━━━━━━━━━━━━━━━━━━━━━━━━━━━\u001b[0m \u001b[32m6.3/6.3 MB\u001b[0m \u001b[31m36.4 MB/s\u001b[0m eta \u001b[36m0:00:00\u001b[0m\n",
            "\u001b[?25hRequirement already satisfied: filelock in /usr/local/lib/python3.9/dist-packages (from transformers) (3.9.0)\n",
            "Collecting huggingface-hub<1.0,>=0.11.0\n",
            "  Downloading huggingface_hub-0.13.2-py3-none-any.whl (199 kB)\n",
            "\u001b[2K     \u001b[90m━━━━━━━━━━━━━━━━━━━━━━━━━━━━━━━━━━━━━━\u001b[0m \u001b[32m199.2/199.2 KB\u001b[0m \u001b[31m15.5 MB/s\u001b[0m eta \u001b[36m0:00:00\u001b[0m\n",
            "\u001b[?25hRequirement already satisfied: regex!=2019.12.17 in /usr/local/lib/python3.9/dist-packages (from transformers) (2022.6.2)\n",
            "Requirement already satisfied: pyyaml>=5.1 in /usr/local/lib/python3.9/dist-packages (from transformers) (6.0)\n",
            "Requirement already satisfied: numpy>=1.17 in /usr/local/lib/python3.9/dist-packages (from transformers) (1.22.4)\n",
            "Requirement already satisfied: packaging>=20.0 in /usr/local/lib/python3.9/dist-packages (from transformers) (23.0)\n",
            "Requirement already satisfied: tqdm>=4.27 in /usr/local/lib/python3.9/dist-packages (from transformers) (4.65.0)\n",
            "Requirement already satisfied: requests in /usr/local/lib/python3.9/dist-packages (from transformers) (2.25.1)\n",
            "Collecting tokenizers!=0.11.3,<0.14,>=0.11.1\n",
            "  Downloading tokenizers-0.13.2-cp39-cp39-manylinux_2_17_x86_64.manylinux2014_x86_64.whl (7.6 MB)\n",
            "\u001b[2K     \u001b[90m━━━━━━━━━━━━━━━━━━━━━━━━━━━━━━━━━━━━━━━━\u001b[0m \u001b[32m7.6/7.6 MB\u001b[0m \u001b[31m32.8 MB/s\u001b[0m eta \u001b[36m0:00:00\u001b[0m\n",
            "\u001b[?25hRequirement already satisfied: typing-extensions>=3.7.4.3 in /usr/local/lib/python3.9/dist-packages (from huggingface-hub<1.0,>=0.11.0->transformers) (4.5.0)\n",
            "Requirement already satisfied: urllib3<1.27,>=1.21.1 in /usr/local/lib/python3.9/dist-packages (from requests->transformers) (1.26.15)\n",
            "Requirement already satisfied: idna<3,>=2.5 in /usr/local/lib/python3.9/dist-packages (from requests->transformers) (2.10)\n",
            "Requirement already satisfied: chardet<5,>=3.0.2 in /usr/local/lib/python3.9/dist-packages (from requests->transformers) (4.0.0)\n",
            "Requirement already satisfied: certifi>=2017.4.17 in /usr/local/lib/python3.9/dist-packages (from requests->transformers) (2022.12.7)\n",
            "Installing collected packages: tokenizers, huggingface-hub, transformers\n",
            "Successfully installed huggingface-hub-0.13.2 tokenizers-0.13.2 transformers-4.26.1\n"
          ]
        }
      ],
      "source": [
        "import pandas as pd\n",
        "import numpy as np\n",
        "import matplotlib.pyplot as plt\n",
        "import seaborn as sns\n",
        "\n",
        "!pip install transformers\n",
        "\n",
        "import torch\n",
        "from transformers import BertForQuestionAnswering\n",
        "from transformers import BertTokenizer"
      ]
    },
    {
      "cell_type": "markdown",
      "metadata": {
        "id": "_dZeOyAUmhvn"
      },
      "source": [
        "### Data loading"
      ]
    },
    {
      "cell_type": "code",
      "execution_count": 2,
      "metadata": {
        "colab": {
          "base_uri": "https://localhost:8080/",
          "height": 206
        },
        "id": "gE1yvThSmhvo",
        "outputId": "c0e1ce28-d1ba-4e2b-faae-210ebee99d30"
      },
      "outputs": [
        {
          "output_type": "execute_result",
          "data": {
            "text/plain": [
              "   version                                               data\n",
              "0        1  {'source': 'wikipedia', 'id': '3zotghdk5ibi9ce...\n",
              "1        1  {'source': 'cnn', 'id': '3wj1oxy92agboo5nlq4r7...\n",
              "2        1  {'source': 'gutenberg', 'id': '3bdcf01ogxu7zdn...\n",
              "3        1  {'source': 'cnn', 'id': '3ewijtffvo7wwchw6rtya...\n",
              "4        1  {'source': 'gutenberg', 'id': '3urfvvm165iantk..."
            ],
            "text/html": [
              "\n",
              "  <div id=\"df-87127906-3cb4-4c28-9847-5dc1229b6155\">\n",
              "    <div class=\"colab-df-container\">\n",
              "      <div>\n",
              "<style scoped>\n",
              "    .dataframe tbody tr th:only-of-type {\n",
              "        vertical-align: middle;\n",
              "    }\n",
              "\n",
              "    .dataframe tbody tr th {\n",
              "        vertical-align: top;\n",
              "    }\n",
              "\n",
              "    .dataframe thead th {\n",
              "        text-align: right;\n",
              "    }\n",
              "</style>\n",
              "<table border=\"1\" class=\"dataframe\">\n",
              "  <thead>\n",
              "    <tr style=\"text-align: right;\">\n",
              "      <th></th>\n",
              "      <th>version</th>\n",
              "      <th>data</th>\n",
              "    </tr>\n",
              "  </thead>\n",
              "  <tbody>\n",
              "    <tr>\n",
              "      <th>0</th>\n",
              "      <td>1</td>\n",
              "      <td>{'source': 'wikipedia', 'id': '3zotghdk5ibi9ce...</td>\n",
              "    </tr>\n",
              "    <tr>\n",
              "      <th>1</th>\n",
              "      <td>1</td>\n",
              "      <td>{'source': 'cnn', 'id': '3wj1oxy92agboo5nlq4r7...</td>\n",
              "    </tr>\n",
              "    <tr>\n",
              "      <th>2</th>\n",
              "      <td>1</td>\n",
              "      <td>{'source': 'gutenberg', 'id': '3bdcf01ogxu7zdn...</td>\n",
              "    </tr>\n",
              "    <tr>\n",
              "      <th>3</th>\n",
              "      <td>1</td>\n",
              "      <td>{'source': 'cnn', 'id': '3ewijtffvo7wwchw6rtya...</td>\n",
              "    </tr>\n",
              "    <tr>\n",
              "      <th>4</th>\n",
              "      <td>1</td>\n",
              "      <td>{'source': 'gutenberg', 'id': '3urfvvm165iantk...</td>\n",
              "    </tr>\n",
              "  </tbody>\n",
              "</table>\n",
              "</div>\n",
              "      <button class=\"colab-df-convert\" onclick=\"convertToInteractive('df-87127906-3cb4-4c28-9847-5dc1229b6155')\"\n",
              "              title=\"Convert this dataframe to an interactive table.\"\n",
              "              style=\"display:none;\">\n",
              "        \n",
              "  <svg xmlns=\"http://www.w3.org/2000/svg\" height=\"24px\"viewBox=\"0 0 24 24\"\n",
              "       width=\"24px\">\n",
              "    <path d=\"M0 0h24v24H0V0z\" fill=\"none\"/>\n",
              "    <path d=\"M18.56 5.44l.94 2.06.94-2.06 2.06-.94-2.06-.94-.94-2.06-.94 2.06-2.06.94zm-11 1L8.5 8.5l.94-2.06 2.06-.94-2.06-.94L8.5 2.5l-.94 2.06-2.06.94zm10 10l.94 2.06.94-2.06 2.06-.94-2.06-.94-.94-2.06-.94 2.06-2.06.94z\"/><path d=\"M17.41 7.96l-1.37-1.37c-.4-.4-.92-.59-1.43-.59-.52 0-1.04.2-1.43.59L10.3 9.45l-7.72 7.72c-.78.78-.78 2.05 0 2.83L4 21.41c.39.39.9.59 1.41.59.51 0 1.02-.2 1.41-.59l7.78-7.78 2.81-2.81c.8-.78.8-2.07 0-2.86zM5.41 20L4 18.59l7.72-7.72 1.47 1.35L5.41 20z\"/>\n",
              "  </svg>\n",
              "      </button>\n",
              "      \n",
              "  <style>\n",
              "    .colab-df-container {\n",
              "      display:flex;\n",
              "      flex-wrap:wrap;\n",
              "      gap: 12px;\n",
              "    }\n",
              "\n",
              "    .colab-df-convert {\n",
              "      background-color: #E8F0FE;\n",
              "      border: none;\n",
              "      border-radius: 50%;\n",
              "      cursor: pointer;\n",
              "      display: none;\n",
              "      fill: #1967D2;\n",
              "      height: 32px;\n",
              "      padding: 0 0 0 0;\n",
              "      width: 32px;\n",
              "    }\n",
              "\n",
              "    .colab-df-convert:hover {\n",
              "      background-color: #E2EBFA;\n",
              "      box-shadow: 0px 1px 2px rgba(60, 64, 67, 0.3), 0px 1px 3px 1px rgba(60, 64, 67, 0.15);\n",
              "      fill: #174EA6;\n",
              "    }\n",
              "\n",
              "    [theme=dark] .colab-df-convert {\n",
              "      background-color: #3B4455;\n",
              "      fill: #D2E3FC;\n",
              "    }\n",
              "\n",
              "    [theme=dark] .colab-df-convert:hover {\n",
              "      background-color: #434B5C;\n",
              "      box-shadow: 0px 1px 3px 1px rgba(0, 0, 0, 0.15);\n",
              "      filter: drop-shadow(0px 1px 2px rgba(0, 0, 0, 0.3));\n",
              "      fill: #FFFFFF;\n",
              "    }\n",
              "  </style>\n",
              "\n",
              "      <script>\n",
              "        const buttonEl =\n",
              "          document.querySelector('#df-87127906-3cb4-4c28-9847-5dc1229b6155 button.colab-df-convert');\n",
              "        buttonEl.style.display =\n",
              "          google.colab.kernel.accessAllowed ? 'block' : 'none';\n",
              "\n",
              "        async function convertToInteractive(key) {\n",
              "          const element = document.querySelector('#df-87127906-3cb4-4c28-9847-5dc1229b6155');\n",
              "          const dataTable =\n",
              "            await google.colab.kernel.invokeFunction('convertToInteractive',\n",
              "                                                     [key], {});\n",
              "          if (!dataTable) return;\n",
              "\n",
              "          const docLinkHtml = 'Like what you see? Visit the ' +\n",
              "            '<a target=\"_blank\" href=https://colab.research.google.com/notebooks/data_table.ipynb>data table notebook</a>'\n",
              "            + ' to learn more about interactive tables.';\n",
              "          element.innerHTML = '';\n",
              "          dataTable['output_type'] = 'display_data';\n",
              "          await google.colab.output.renderOutput(dataTable, element);\n",
              "          const docLink = document.createElement('div');\n",
              "          docLink.innerHTML = docLinkHtml;\n",
              "          element.appendChild(docLink);\n",
              "        }\n",
              "      </script>\n",
              "    </div>\n",
              "  </div>\n",
              "  "
            ]
          },
          "metadata": {},
          "execution_count": 2
        }
      ],
      "source": [
        "coqa = pd.read_json('http://downloads.cs.stanford.edu/nlp/data/coqa/coqa-train-v1.0.json')\n",
        "coqa.head()"
      ]
    },
    {
      "cell_type": "markdown",
      "metadata": {
        "id": "wQunvhInmhvo"
      },
      "source": [
        "### Data cleaning"
      ]
    },
    {
      "cell_type": "code",
      "execution_count": 3,
      "metadata": {
        "id": "JiMo5rZ7mhvp"
      },
      "outputs": [],
      "source": [
        "del coqa[\"version\"]"
      ]
    },
    {
      "cell_type": "code",
      "execution_count": 4,
      "metadata": {
        "scrolled": false,
        "id": "ovVMpPFGmhvp"
      },
      "outputs": [],
      "source": [
        "cols = [\"text\",\"question\",\"answer\"]\n",
        "\n",
        "# j = 1\n",
        "comp_list = []\n",
        "for index, row in coqa.iterrows():\n",
        "    for i in range(len(row[\"data\"][\"questions\"])):\n",
        "        temp_list = []\n",
        "#         temp_list.append(j)\n",
        "        temp_list.append(row[\"data\"][\"story\"])\n",
        "        temp_list.append(row[\"data\"][\"questions\"][i][\"input_text\"])\n",
        "        temp_list.append(row[\"data\"][\"answers\"][i][\"input_text\"])\n",
        "        comp_list.append(temp_list)\n",
        "#     j += 1\n",
        "new_df = pd.DataFrame(comp_list, columns=cols) "
      ]
    },
    {
      "cell_type": "markdown",
      "metadata": {
        "id": "tAwftZq1mhvq"
      },
      "source": [
        "### Saving the data as csv"
      ]
    },
    {
      "cell_type": "code",
      "execution_count": 5,
      "metadata": {
        "id": "fqvjZPj5mhvq"
      },
      "outputs": [],
      "source": [
        "new_df.to_csv(\"CoQA_data.csv\", index=False)"
      ]
    },
    {
      "cell_type": "markdown",
      "metadata": {
        "id": "5Hzj_HuKmhvr"
      },
      "source": [
        "### Loading the data"
      ]
    },
    {
      "cell_type": "code",
      "execution_count": 6,
      "metadata": {
        "colab": {
          "base_uri": "https://localhost:8080/",
          "height": 206
        },
        "id": "Ijmoknkymhvr",
        "outputId": "7ff2d033-f466-4d84-8f3c-58211f08f245"
      },
      "outputs": [
        {
          "output_type": "execute_result",
          "data": {
            "text/plain": [
              "                                                text  \\\n",
              "0  The Vatican Apostolic Library (), more commonl...   \n",
              "1  The Vatican Apostolic Library (), more commonl...   \n",
              "2  The Vatican Apostolic Library (), more commonl...   \n",
              "3  The Vatican Apostolic Library (), more commonl...   \n",
              "4  The Vatican Apostolic Library (), more commonl...   \n",
              "\n",
              "                            question                               answer  \n",
              "0  When was the Vat formally opened?  It was formally established in 1475  \n",
              "1           what is the library for?                             research  \n",
              "2                 for what subjects?                     history, and law  \n",
              "3                               and?     philosophy, science and theology  \n",
              "4          what was started in 2014?                           a  project  "
            ],
            "text/html": [
              "\n",
              "  <div id=\"df-e27da12c-65c9-453c-8b9e-47a2d8b28415\">\n",
              "    <div class=\"colab-df-container\">\n",
              "      <div>\n",
              "<style scoped>\n",
              "    .dataframe tbody tr th:only-of-type {\n",
              "        vertical-align: middle;\n",
              "    }\n",
              "\n",
              "    .dataframe tbody tr th {\n",
              "        vertical-align: top;\n",
              "    }\n",
              "\n",
              "    .dataframe thead th {\n",
              "        text-align: right;\n",
              "    }\n",
              "</style>\n",
              "<table border=\"1\" class=\"dataframe\">\n",
              "  <thead>\n",
              "    <tr style=\"text-align: right;\">\n",
              "      <th></th>\n",
              "      <th>text</th>\n",
              "      <th>question</th>\n",
              "      <th>answer</th>\n",
              "    </tr>\n",
              "  </thead>\n",
              "  <tbody>\n",
              "    <tr>\n",
              "      <th>0</th>\n",
              "      <td>The Vatican Apostolic Library (), more commonl...</td>\n",
              "      <td>When was the Vat formally opened?</td>\n",
              "      <td>It was formally established in 1475</td>\n",
              "    </tr>\n",
              "    <tr>\n",
              "      <th>1</th>\n",
              "      <td>The Vatican Apostolic Library (), more commonl...</td>\n",
              "      <td>what is the library for?</td>\n",
              "      <td>research</td>\n",
              "    </tr>\n",
              "    <tr>\n",
              "      <th>2</th>\n",
              "      <td>The Vatican Apostolic Library (), more commonl...</td>\n",
              "      <td>for what subjects?</td>\n",
              "      <td>history, and law</td>\n",
              "    </tr>\n",
              "    <tr>\n",
              "      <th>3</th>\n",
              "      <td>The Vatican Apostolic Library (), more commonl...</td>\n",
              "      <td>and?</td>\n",
              "      <td>philosophy, science and theology</td>\n",
              "    </tr>\n",
              "    <tr>\n",
              "      <th>4</th>\n",
              "      <td>The Vatican Apostolic Library (), more commonl...</td>\n",
              "      <td>what was started in 2014?</td>\n",
              "      <td>a  project</td>\n",
              "    </tr>\n",
              "  </tbody>\n",
              "</table>\n",
              "</div>\n",
              "      <button class=\"colab-df-convert\" onclick=\"convertToInteractive('df-e27da12c-65c9-453c-8b9e-47a2d8b28415')\"\n",
              "              title=\"Convert this dataframe to an interactive table.\"\n",
              "              style=\"display:none;\">\n",
              "        \n",
              "  <svg xmlns=\"http://www.w3.org/2000/svg\" height=\"24px\"viewBox=\"0 0 24 24\"\n",
              "       width=\"24px\">\n",
              "    <path d=\"M0 0h24v24H0V0z\" fill=\"none\"/>\n",
              "    <path d=\"M18.56 5.44l.94 2.06.94-2.06 2.06-.94-2.06-.94-.94-2.06-.94 2.06-2.06.94zm-11 1L8.5 8.5l.94-2.06 2.06-.94-2.06-.94L8.5 2.5l-.94 2.06-2.06.94zm10 10l.94 2.06.94-2.06 2.06-.94-2.06-.94-.94-2.06-.94 2.06-2.06.94z\"/><path d=\"M17.41 7.96l-1.37-1.37c-.4-.4-.92-.59-1.43-.59-.52 0-1.04.2-1.43.59L10.3 9.45l-7.72 7.72c-.78.78-.78 2.05 0 2.83L4 21.41c.39.39.9.59 1.41.59.51 0 1.02-.2 1.41-.59l7.78-7.78 2.81-2.81c.8-.78.8-2.07 0-2.86zM5.41 20L4 18.59l7.72-7.72 1.47 1.35L5.41 20z\"/>\n",
              "  </svg>\n",
              "      </button>\n",
              "      \n",
              "  <style>\n",
              "    .colab-df-container {\n",
              "      display:flex;\n",
              "      flex-wrap:wrap;\n",
              "      gap: 12px;\n",
              "    }\n",
              "\n",
              "    .colab-df-convert {\n",
              "      background-color: #E8F0FE;\n",
              "      border: none;\n",
              "      border-radius: 50%;\n",
              "      cursor: pointer;\n",
              "      display: none;\n",
              "      fill: #1967D2;\n",
              "      height: 32px;\n",
              "      padding: 0 0 0 0;\n",
              "      width: 32px;\n",
              "    }\n",
              "\n",
              "    .colab-df-convert:hover {\n",
              "      background-color: #E2EBFA;\n",
              "      box-shadow: 0px 1px 2px rgba(60, 64, 67, 0.3), 0px 1px 3px 1px rgba(60, 64, 67, 0.15);\n",
              "      fill: #174EA6;\n",
              "    }\n",
              "\n",
              "    [theme=dark] .colab-df-convert {\n",
              "      background-color: #3B4455;\n",
              "      fill: #D2E3FC;\n",
              "    }\n",
              "\n",
              "    [theme=dark] .colab-df-convert:hover {\n",
              "      background-color: #434B5C;\n",
              "      box-shadow: 0px 1px 3px 1px rgba(0, 0, 0, 0.15);\n",
              "      filter: drop-shadow(0px 1px 2px rgba(0, 0, 0, 0.3));\n",
              "      fill: #FFFFFF;\n",
              "    }\n",
              "  </style>\n",
              "\n",
              "      <script>\n",
              "        const buttonEl =\n",
              "          document.querySelector('#df-e27da12c-65c9-453c-8b9e-47a2d8b28415 button.colab-df-convert');\n",
              "        buttonEl.style.display =\n",
              "          google.colab.kernel.accessAllowed ? 'block' : 'none';\n",
              "\n",
              "        async function convertToInteractive(key) {\n",
              "          const element = document.querySelector('#df-e27da12c-65c9-453c-8b9e-47a2d8b28415');\n",
              "          const dataTable =\n",
              "            await google.colab.kernel.invokeFunction('convertToInteractive',\n",
              "                                                     [key], {});\n",
              "          if (!dataTable) return;\n",
              "\n",
              "          const docLinkHtml = 'Like what you see? Visit the ' +\n",
              "            '<a target=\"_blank\" href=https://colab.research.google.com/notebooks/data_table.ipynb>data table notebook</a>'\n",
              "            + ' to learn more about interactive tables.';\n",
              "          element.innerHTML = '';\n",
              "          dataTable['output_type'] = 'display_data';\n",
              "          await google.colab.output.renderOutput(dataTable, element);\n",
              "          const docLink = document.createElement('div');\n",
              "          docLink.innerHTML = docLinkHtml;\n",
              "          element.appendChild(docLink);\n",
              "        }\n",
              "      </script>\n",
              "    </div>\n",
              "  </div>\n",
              "  "
            ]
          },
          "metadata": {},
          "execution_count": 6
        }
      ],
      "source": [
        "data = pd.read_csv(\"CoQA_data.csv\")\n",
        "data.head()"
      ]
    },
    {
      "cell_type": "code",
      "execution_count": 7,
      "metadata": {
        "colab": {
          "base_uri": "https://localhost:8080/"
        },
        "id": "XEgvBMAnmhvr",
        "outputId": "b06bd123-6c78-48b5-8f9a-624637d461f7"
      },
      "outputs": [
        {
          "output_type": "stream",
          "name": "stdout",
          "text": [
            "Number of question and answers:  108647\n"
          ]
        }
      ],
      "source": [
        "print(\"Number of question and answers: \", len(data))"
      ]
    },
    {
      "cell_type": "markdown",
      "metadata": {
        "id": "AssaTv_Kmhvr"
      },
      "source": [
        "### Building the chatbot"
      ]
    },
    {
      "cell_type": "code",
      "execution_count": 8,
      "metadata": {
        "colab": {
          "base_uri": "https://localhost:8080/",
          "height": 145,
          "referenced_widgets": [
            "c7f8758c99d748959d1469692cc47800",
            "a3bc8934ca2a431985f2a79b8ba28d5a",
            "0351f7c5529c4beea2ad233ad9627e2b",
            "e98a4c88a2da4b6292445b36b85387a0",
            "aa70325044ba40a79179ce8c0e609de0",
            "11b198bdc70e4f6d9b5467c658315648",
            "a7ecc885bb094ef396835a4492a34661",
            "16ed2a01806640b98ab1fd6ad92db348",
            "de9ac8a19f924285a225076120296e9c",
            "772ff3a1aeb74f30b05bd7b31e05d722",
            "a28922f3b5b94c73b0518c7367462453",
            "1fa0bc6f78244087bc0cab71c2137803",
            "827200dd11574af993161da566ce1790",
            "220cff9cf67b4629b4165573662ae505",
            "cdf7f9d2222a477ca533fddaffe35f85",
            "e8f0f7c125e941efa2a669e0d833f848",
            "eb3033511e424a02b4a4272470d9e3d8",
            "b51e6ff195c7477794cf016ecf6dc79d",
            "470a13bfa8bb464b9dec68c516fe2f01",
            "3b0f4b52351c411da0db873ace83eadf",
            "e8752e30730b43bd80a3e30fa1ec55c0",
            "ac9c5c20d8964a5d9dc3228f364625d0",
            "d501cf76ad414242857c8206e3080359",
            "fe474e3fd16f4ee7b5c66cb975191696",
            "a815c22ab9954197a513f48b0e5406af",
            "225fce1401ef49c284a0fa3c15e5799f",
            "d59407f689414a0e8102322c6719ecb6",
            "980ed6c8bbab4f1d8abc5cc3e5bffd77",
            "f7814e9739ca4ead80f2c73711bb2a36",
            "766afc2ae39a4ac293073c82d5567a18",
            "b590081a43c2408380623d062e251d7b",
            "c6df6cb29ed941c08b6ab9214655995b",
            "88cb71d93c27448392a54fdf0252b02b",
            "6b9727e3bb8c4483866adcf7c89f7117",
            "b3f881c7290a4f3396a0f001df96f93f",
            "a8762803d079407f8b40e4b135881757",
            "b32462fb954e445abefe8b65deccaf9a",
            "599e0179198e4f0f90050209e7c608f0",
            "8353c5095c9e42559ffeeefb20282475",
            "dafae9ec4a76482ca1bf1ae3ae41737f",
            "f90d4ddaa83a47dca6fd1e2b0d2b8c6f",
            "e5b87b5a5c934779bf598ca844dc457f",
            "d853d6247367405b89a774b8f0c0d542",
            "b0fb075efade4b589b8e8e26e7f1029e"
          ]
        },
        "id": "HVd7QySHmhvs",
        "outputId": "b4af703c-ba36-4e53-d62f-b537d26c77be"
      },
      "outputs": [
        {
          "output_type": "display_data",
          "data": {
            "text/plain": [
              "Downloading (…)lve/main/config.json:   0%|          | 0.00/443 [00:00<?, ?B/s]"
            ],
            "application/vnd.jupyter.widget-view+json": {
              "version_major": 2,
              "version_minor": 0,
              "model_id": "c7f8758c99d748959d1469692cc47800"
            }
          },
          "metadata": {}
        },
        {
          "output_type": "display_data",
          "data": {
            "text/plain": [
              "Downloading pytorch_model.bin:   0%|          | 0.00/1.34G [00:00<?, ?B/s]"
            ],
            "application/vnd.jupyter.widget-view+json": {
              "version_major": 2,
              "version_minor": 0,
              "model_id": "1fa0bc6f78244087bc0cab71c2137803"
            }
          },
          "metadata": {}
        },
        {
          "output_type": "display_data",
          "data": {
            "text/plain": [
              "Downloading (…)solve/main/vocab.txt:   0%|          | 0.00/232k [00:00<?, ?B/s]"
            ],
            "application/vnd.jupyter.widget-view+json": {
              "version_major": 2,
              "version_minor": 0,
              "model_id": "d501cf76ad414242857c8206e3080359"
            }
          },
          "metadata": {}
        },
        {
          "output_type": "display_data",
          "data": {
            "text/plain": [
              "Downloading (…)okenizer_config.json:   0%|          | 0.00/28.0 [00:00<?, ?B/s]"
            ],
            "application/vnd.jupyter.widget-view+json": {
              "version_major": 2,
              "version_minor": 0,
              "model_id": "6b9727e3bb8c4483866adcf7c89f7117"
            }
          },
          "metadata": {}
        }
      ],
      "source": [
        "model = BertForQuestionAnswering.from_pretrained('bert-large-uncased-whole-word-masking-finetuned-squad')\n",
        "tokenizer = BertTokenizer.from_pretrained('bert-large-uncased-whole-word-masking-finetuned-squad')"
      ]
    },
    {
      "cell_type": "code",
      "execution_count": 9,
      "metadata": {
        "id": "ABzuRREEmhvs"
      },
      "outputs": [],
      "source": [
        "random_num = np.random.randint(0,len(data))\n",
        "\n",
        "question = data[\"question\"][random_num]\n",
        "text = data[\"text\"][random_num]"
      ]
    },
    {
      "cell_type": "code",
      "execution_count": 10,
      "metadata": {
        "colab": {
          "base_uri": "https://localhost:8080/"
        },
        "id": "15fU7wBpmhvs",
        "outputId": "68078b0f-156a-40ac-ea49-344caa879ceb"
      },
      "outputs": [
        {
          "output_type": "stream",
          "name": "stdout",
          "text": [
            "What is his main message? \n",
            " Syria may be embroiled in a brutal three-year civil war, but that's not stopping the government from holding controversial presidential elections this week. \n",
            "\n",
            "The election, which has been branded a sham by the West and by the Syrian opposition, is widely expected to return President Bashar al-Assad to power. \n",
            "\n",
            "CNN International Correspondent Frederik Pleitgen has reported from inside Syria numerous times during the conflict, which has left an estimated 150,000 people dead. He breaks down the key questions ahead of Tuesday's election. \n",
            "\n",
            "Why is it happening now? \n",
            "\n",
            "The government says Syria's new constitution stipulates that presidential elections must be held now. The regime says it shows the country is moving forward and that it is the first time a president will be elected by the people rather than appointed. The opposition says the election is a fraud, that voting will be rigged and that the poll serves only to cement Assad's power. \n",
            "\n",
            "Who are the other candidates? \n",
            "\n",
            "The other two candidates are relative unknowns. One is Maher Hajjar, an entrepreneur and member of parliament. He keeps out of the limelight and has not been heard from much. Hajjar's election posters declare that \"Syria is with Palestine,\" which seems like a very narrow slogan. Other than that it is unclear what he would change should he win. \n",
            "\n",
            "The more intriguing candidate is Hassan Nouri, a former economics professor and cabinet minister who told me he had to resign because he was too critical of Assad's government. Nouri studied at the University of Wisconsin and still refers to himself as a Badger. He says the election is an uphill battle for him, but feels he is making headway. His main message is economic. He is for market liberalization and fighting corruption in government and in the private sector. But when it comes to fighting Syria's civil war, Nouri says he wouldn't do anything differently -- and much like Assad, he refers to the regime's three-year assault on the opposition as \"fighting terrorism.\" \n"
          ]
        }
      ],
      "source": [
        "print(question, \"\\n\", text)"
      ]
    },
    {
      "cell_type": "code",
      "execution_count": 11,
      "metadata": {
        "colab": {
          "base_uri": "https://localhost:8080/"
        },
        "id": "sDoUVbCzmhvs",
        "outputId": "8b858150-3b9e-45a5-b561-20f40400d6b4"
      },
      "outputs": [
        {
          "output_type": "stream",
          "name": "stdout",
          "text": [
            "The input has a total of 426 tokens.\n"
          ]
        }
      ],
      "source": [
        "input_ids = tokenizer.encode(question, text)\n",
        "print(\"The input has a total of {} tokens.\".format(len(input_ids)))"
      ]
    },
    {
      "cell_type": "code",
      "execution_count": 12,
      "metadata": {
        "colab": {
          "base_uri": "https://localhost:8080/"
        },
        "id": "wSeuPmFzmhvt",
        "outputId": "8109ccbd-1a08-4297-e858-20acbdca7ac0"
      },
      "outputs": [
        {
          "output_type": "stream",
          "name": "stdout",
          "text": [
            "[CLS]        101\n",
            "what       2,054\n",
            "is         2,003\n",
            "his        2,010\n",
            "main       2,364\n",
            "message    4,471\n",
            "?          1,029\n",
            "[SEP]        102\n",
            "syria      7,795\n",
            "may        2,089\n",
            "be         2,022\n",
            "em         7,861\n",
            "##bro     12,618\n",
            "##iled    18,450\n",
            "in         1,999\n",
            "a          1,037\n",
            "brutal    12,077\n",
            "three      2,093\n",
            "-          1,011\n",
            "year       2,095\n",
            "civil      2,942\n",
            "war        2,162\n",
            ",          1,010\n",
            "but        2,021\n",
            "that       2,008\n",
            "'          1,005\n",
            "s          1,055\n",
            "not        2,025\n",
            "stopping   7,458\n",
            "the        1,996\n",
            "government   2,231\n",
            "from       2,013\n",
            "holding    3,173\n",
            "controversial   6,801\n",
            "presidential   4,883\n",
            "elections   3,864\n",
            "this       2,023\n",
            "week       2,733\n",
            ".          1,012\n",
            "the        1,996\n",
            "election   2,602\n",
            ",          1,010\n",
            "which      2,029\n",
            "has        2,038\n",
            "been       2,042\n",
            "branded   11,180\n",
            "a          1,037\n",
            "sham      25,850\n",
            "by         2,011\n",
            "the        1,996\n",
            "west       2,225\n",
            "and        1,998\n",
            "by         2,011\n",
            "the        1,996\n",
            "syrian     9,042\n",
            "opposition   4,559\n",
            ",          1,010\n",
            "is         2,003\n",
            "widely     4,235\n",
            "expected   3,517\n",
            "to         2,000\n",
            "return     2,709\n",
            "president   2,343\n",
            "basha     26,074\n",
            "##r        2,099\n",
            "al         2,632\n",
            "-          1,011\n",
            "ass        4,632\n",
            "##ad       4,215\n",
            "to         2,000\n",
            "power      2,373\n",
            ".          1,012\n",
            "cnn       13,229\n",
            "international   2,248\n",
            "correspondent  11,370\n",
            "fred       5,965\n",
            "##erik    27,350\n",
            "pl        20,228\n",
            "##eit     20,175\n",
            "##gen      6,914\n",
            "has        2,038\n",
            "reported   2,988\n",
            "from       2,013\n",
            "inside     2,503\n",
            "syria      7,795\n",
            "numerous   3,365\n",
            "times      2,335\n",
            "during     2,076\n",
            "the        1,996\n",
            "conflict   4,736\n",
            ",          1,010\n",
            "which      2,029\n",
            "has        2,038\n",
            "left       2,187\n",
            "an         2,019\n",
            "estimated   4,358\n",
            "150        5,018\n",
            ",          1,010\n",
            "000        2,199\n",
            "people     2,111\n",
            "dead       2,757\n",
            ".          1,012\n",
            "he         2,002\n",
            "breaks     7,807\n",
            "down       2,091\n",
            "the        1,996\n",
            "key        3,145\n",
            "questions   3,980\n",
            "ahead      3,805\n",
            "of         1,997\n",
            "tuesday    9,857\n",
            "'          1,005\n",
            "s          1,055\n",
            "election   2,602\n",
            ".          1,012\n",
            "why        2,339\n",
            "is         2,003\n",
            "it         2,009\n",
            "happening   6,230\n",
            "now        2,085\n",
            "?          1,029\n",
            "the        1,996\n",
            "government   2,231\n",
            "says       2,758\n",
            "syria      7,795\n",
            "'          1,005\n",
            "s          1,055\n",
            "new        2,047\n",
            "constitution   4,552\n",
            "st         2,358\n",
            "##ip      11,514\n",
            "##ulates  18,969\n",
            "that       2,008\n",
            "presidential   4,883\n",
            "elections   3,864\n",
            "must       2,442\n",
            "be         2,022\n",
            "held       2,218\n",
            "now        2,085\n",
            ".          1,012\n",
            "the        1,996\n",
            "regime     6,939\n",
            "says       2,758\n",
            "it         2,009\n",
            "shows      3,065\n",
            "the        1,996\n",
            "country    2,406\n",
            "is         2,003\n",
            "moving     3,048\n",
            "forward    2,830\n",
            "and        1,998\n",
            "that       2,008\n",
            "it         2,009\n",
            "is         2,003\n",
            "the        1,996\n",
            "first      2,034\n",
            "time       2,051\n",
            "a          1,037\n",
            "president   2,343\n",
            "will       2,097\n",
            "be         2,022\n",
            "elected    2,700\n",
            "by         2,011\n",
            "the        1,996\n",
            "people     2,111\n",
            "rather     2,738\n",
            "than       2,084\n",
            "appointed   2,805\n",
            ".          1,012\n",
            "the        1,996\n",
            "opposition   4,559\n",
            "says       2,758\n",
            "the        1,996\n",
            "election   2,602\n",
            "is         2,003\n",
            "a          1,037\n",
            "fraud      9,861\n",
            ",          1,010\n",
            "that       2,008\n",
            "voting     6,830\n",
            "will       2,097\n",
            "be         2,022\n",
            "rigged    25,216\n",
            "and        1,998\n",
            "that       2,008\n",
            "the        1,996\n",
            "poll       8,554\n",
            "serves     4,240\n",
            "only       2,069\n",
            "to         2,000\n",
            "cement    11,297\n",
            "ass        4,632\n",
            "##ad       4,215\n",
            "'          1,005\n",
            "s          1,055\n",
            "power      2,373\n",
            ".          1,012\n",
            "who        2,040\n",
            "are        2,024\n",
            "the        1,996\n",
            "other      2,060\n",
            "candidates   5,347\n",
            "?          1,029\n",
            "the        1,996\n",
            "other      2,060\n",
            "two        2,048\n",
            "candidates   5,347\n",
            "are        2,024\n",
            "relative   5,816\n",
            "unknown    4,242\n",
            "##s        2,015\n",
            ".          1,012\n",
            "one        2,028\n",
            "is         2,003\n",
            "ma         5,003\n",
            "##her      5,886\n",
            "ha         5,292\n",
            "##j        3,501\n",
            "##jar     16,084\n",
            ",          1,010\n",
            "an         2,019\n",
            "entrepreneur  10,670\n",
            "and        1,998\n",
            "member     2,266\n",
            "of         1,997\n",
            "parliament   3,323\n",
            ".          1,012\n",
            "he         2,002\n",
            "keeps      7,906\n",
            "out        2,041\n",
            "of         1,997\n",
            "the        1,996\n",
            "lime      14,123\n",
            "##light    7,138\n",
            "and        1,998\n",
            "has        2,038\n",
            "not        2,025\n",
            "been       2,042\n",
            "heard      2,657\n",
            "from       2,013\n",
            "much       2,172\n",
            ".          1,012\n",
            "ha         5,292\n",
            "##j        3,501\n",
            "##jar     16,084\n",
            "'          1,005\n",
            "s          1,055\n",
            "election   2,602\n",
            "posters   14,921\n",
            "declare   13,520\n",
            "that       2,008\n",
            "\"          1,000\n",
            "syria      7,795\n",
            "is         2,003\n",
            "with       2,007\n",
            "palestine   8,976\n",
            ",          1,010\n",
            "\"          1,000\n",
            "which      2,029\n",
            "seems      3,849\n",
            "like       2,066\n",
            "a          1,037\n",
            "very       2,200\n",
            "narrow     4,867\n",
            "slogan    14,558\n",
            ".          1,012\n",
            "other      2,060\n",
            "than       2,084\n",
            "that       2,008\n",
            "it         2,009\n",
            "is         2,003\n",
            "unclear   10,599\n",
            "what       2,054\n",
            "he         2,002\n",
            "would      2,052\n",
            "change     2,689\n",
            "should     2,323\n",
            "he         2,002\n",
            "win        2,663\n",
            ".          1,012\n",
            "the        1,996\n",
            "more       2,062\n",
            "intriguing  23,824\n",
            "candidate   4,018\n",
            "is         2,003\n",
            "hassan    13,222\n",
            "no         2,053\n",
            "##uri      9,496\n",
            ",          1,010\n",
            "a          1,037\n",
            "former     2,280\n",
            "economics   5,543\n",
            "professor   2,934\n",
            "and        1,998\n",
            "cabinet    5,239\n",
            "minister   2,704\n",
            "who        2,040\n",
            "told       2,409\n",
            "me         2,033\n",
            "he         2,002\n",
            "had        2,018\n",
            "to         2,000\n",
            "resign    12,897\n",
            "because    2,138\n",
            "he         2,002\n",
            "was        2,001\n",
            "too        2,205\n",
            "critical   4,187\n",
            "of         1,997\n",
            "ass        4,632\n",
            "##ad       4,215\n",
            "'          1,005\n",
            "s          1,055\n",
            "government   2,231\n",
            ".          1,012\n",
            "no         2,053\n",
            "##uri      9,496\n",
            "studied    3,273\n",
            "at         2,012\n",
            "the        1,996\n",
            "university   2,118\n",
            "of         1,997\n",
            "wisconsin   5,273\n",
            "and        1,998\n",
            "still      2,145\n",
            "refers     5,218\n",
            "to         2,000\n",
            "himself    2,370\n",
            "as         2,004\n",
            "a          1,037\n",
            "badger    24,186\n",
            ".          1,012\n",
            "he         2,002\n",
            "says       2,758\n",
            "the        1,996\n",
            "election   2,602\n",
            "is         2,003\n",
            "an         2,019\n",
            "up         2,039\n",
            "##hill     7,100\n",
            "battle     2,645\n",
            "for        2,005\n",
            "him        2,032\n",
            ",          1,010\n",
            "but        2,021\n",
            "feels      5,683\n",
            "he         2,002\n",
            "is         2,003\n",
            "making     2,437\n",
            "head       2,132\n",
            "##way      4,576\n",
            ".          1,012\n",
            "his        2,010\n",
            "main       2,364\n",
            "message    4,471\n",
            "is         2,003\n",
            "economic   3,171\n",
            ".          1,012\n",
            "he         2,002\n",
            "is         2,003\n",
            "for        2,005\n",
            "market     3,006\n",
            "liberal    4,314\n",
            "##ization   3,989\n",
            "and        1,998\n",
            "fighting   3,554\n",
            "corruption   7,897\n",
            "in         1,999\n",
            "government   2,231\n",
            "and        1,998\n",
            "in         1,999\n",
            "the        1,996\n",
            "private    2,797\n",
            "sector     4,753\n",
            ".          1,012\n",
            "but        2,021\n",
            "when       2,043\n",
            "it         2,009\n",
            "comes      3,310\n",
            "to         2,000\n",
            "fighting   3,554\n",
            "syria      7,795\n",
            "'          1,005\n",
            "s          1,055\n",
            "civil      2,942\n",
            "war        2,162\n",
            ",          1,010\n",
            "no         2,053\n",
            "##uri      9,496\n",
            "says       2,758\n",
            "he         2,002\n",
            "wouldn     2,876\n",
            "'          1,005\n",
            "t          1,056\n",
            "do         2,079\n",
            "anything   2,505\n",
            "differently  11,543\n",
            "-          1,011\n",
            "-          1,011\n",
            "and        1,998\n",
            "much       2,172\n",
            "like       2,066\n",
            "ass        4,632\n",
            "##ad       4,215\n",
            ",          1,010\n",
            "he         2,002\n",
            "refers     5,218\n",
            "to         2,000\n",
            "the        1,996\n",
            "regime     6,939\n",
            "'          1,005\n",
            "s          1,055\n",
            "three      2,093\n",
            "-          1,011\n",
            "year       2,095\n",
            "assault    6,101\n",
            "on         2,006\n",
            "the        1,996\n",
            "opposition   4,559\n",
            "as         2,004\n",
            "\"          1,000\n",
            "fighting   3,554\n",
            "terrorism  10,130\n",
            ".          1,012\n",
            "\"          1,000\n",
            "[SEP]        102\n"
          ]
        }
      ],
      "source": [
        "tokens = tokenizer.convert_ids_to_tokens(input_ids)\n",
        "\n",
        "for token, id in zip(tokens, input_ids):\n",
        "    print('{:8}{:8,}'.format(token,id))"
      ]
    },
    {
      "cell_type": "code",
      "execution_count": 13,
      "metadata": {
        "colab": {
          "base_uri": "https://localhost:8080/"
        },
        "id": "ea-t1tuwmhvt",
        "outputId": "7af4dde3-2726-4790-9aa6-56627e54b40f"
      },
      "outputs": [
        {
          "output_type": "stream",
          "name": "stdout",
          "text": [
            "7\n",
            "8\n",
            "418\n",
            "[0, 0, 0, 0, 0, 0, 0, 0, 1, 1, 1, 1, 1, 1, 1, 1, 1, 1, 1, 1, 1, 1, 1, 1, 1, 1, 1, 1, 1, 1, 1, 1, 1, 1, 1, 1, 1, 1, 1, 1, 1, 1, 1, 1, 1, 1, 1, 1, 1, 1, 1, 1, 1, 1, 1, 1, 1, 1, 1, 1, 1, 1, 1, 1, 1, 1, 1, 1, 1, 1, 1, 1, 1, 1, 1, 1, 1, 1, 1, 1, 1, 1, 1, 1, 1, 1, 1, 1, 1, 1, 1, 1, 1, 1, 1, 1, 1, 1, 1, 1, 1, 1, 1, 1, 1, 1, 1, 1, 1, 1, 1, 1, 1, 1, 1, 1, 1, 1, 1, 1, 1, 1, 1, 1, 1, 1, 1, 1, 1, 1, 1, 1, 1, 1, 1, 1, 1, 1, 1, 1, 1, 1, 1, 1, 1, 1, 1, 1, 1, 1, 1, 1, 1, 1, 1, 1, 1, 1, 1, 1, 1, 1, 1, 1, 1, 1, 1, 1, 1, 1, 1, 1, 1, 1, 1, 1, 1, 1, 1, 1, 1, 1, 1, 1, 1, 1, 1, 1, 1, 1, 1, 1, 1, 1, 1, 1, 1, 1, 1, 1, 1, 1, 1, 1, 1, 1, 1, 1, 1, 1, 1, 1, 1, 1, 1, 1, 1, 1, 1, 1, 1, 1, 1, 1, 1, 1, 1, 1, 1, 1, 1, 1, 1, 1, 1, 1, 1, 1, 1, 1, 1, 1, 1, 1, 1, 1, 1, 1, 1, 1, 1, 1, 1, 1, 1, 1, 1, 1, 1, 1, 1, 1, 1, 1, 1, 1, 1, 1, 1, 1, 1, 1, 1, 1, 1, 1, 1, 1, 1, 1, 1, 1, 1, 1, 1, 1, 1, 1, 1, 1, 1, 1, 1, 1, 1, 1, 1, 1, 1, 1, 1, 1, 1, 1, 1, 1, 1, 1, 1, 1, 1, 1, 1, 1, 1, 1, 1, 1, 1, 1, 1, 1, 1, 1, 1, 1, 1, 1, 1, 1, 1, 1, 1, 1, 1, 1, 1, 1, 1, 1, 1, 1, 1, 1, 1, 1, 1, 1, 1, 1, 1, 1, 1, 1, 1, 1, 1, 1, 1, 1, 1, 1, 1, 1, 1, 1, 1, 1, 1, 1, 1, 1, 1, 1, 1, 1, 1, 1, 1, 1, 1, 1, 1, 1, 1, 1, 1, 1, 1, 1, 1, 1, 1, 1, 1, 1, 1, 1, 1, 1, 1, 1, 1, 1, 1, 1, 1, 1, 1, 1, 1, 1, 1, 1, 1, 1, 1, 1, 1, 1, 1, 1, 1, 1, 1, 1]\n"
          ]
        }
      ],
      "source": [
        "#first occurence of [SEP] token\n",
        "sep_idx = input_ids.index(tokenizer.sep_token_id)\n",
        "print(sep_idx)\n",
        "\n",
        "#number of tokens in segment A - question\n",
        "num_seg_a = sep_idx+1\n",
        "print(num_seg_a)\n",
        "\n",
        "#number of tokens in segment B - text\n",
        "num_seg_b = len(input_ids) - num_seg_a\n",
        "print(num_seg_b)\n",
        "\n",
        "segment_ids = [0]*num_seg_a + [1]*num_seg_b\n",
        "print(segment_ids)\n",
        "\n",
        "assert len(segment_ids) == len(input_ids)"
      ]
    },
    {
      "cell_type": "code",
      "execution_count": 14,
      "metadata": {
        "id": "mSpTsGznmhvt"
      },
      "outputs": [],
      "source": [
        "#token input_ids to represent the input\n",
        "#token segment_ids to differentiate our segments - text and question \n",
        "output = model(torch.tensor([input_ids]), token_type_ids=torch.tensor([segment_ids]))\n",
        "#print(output.start_logits, output.end_logits)"
      ]
    },
    {
      "cell_type": "code",
      "execution_count": 17,
      "metadata": {
        "id": "6SEILy3amhvt"
      },
      "outputs": [],
      "source": [
        "#tokens with highest start and end scores\n",
        "answer_start = torch.argmax(output.start_logits)\n",
        "answer_end = torch.argmax(output.end_logits)\n",
        "#print(answer_start, answer_end)"
      ]
    },
    {
      "cell_type": "code",
      "execution_count": 18,
      "metadata": {
        "colab": {
          "base_uri": "https://localhost:8080/"
        },
        "id": "lBE0e-NNmhvt",
        "outputId": "432af3ce-a60d-4934-8cb8-7dc9dc7dcbbe"
      },
      "outputs": [
        {
          "output_type": "stream",
          "name": "stdout",
          "text": [
            "Text:\n",
            "Syria may be embroiled in a brutal three-year civil war, but that's not stopping the government from holding controversial presidential elections this week. \n",
            "\n",
            "the election, which has been branded a sham by the west and by the syrian opposition, is widely expected to return president bashar al-assad to power. \n",
            "\n",
            "cnn international correspondent frederik pleitgen has reported from inside syria numerous times during the conflict, which has left an estimated 150,000 people dead. he breaks down the key questions ahead of tuesday's election. \n",
            "\n",
            "why is it happening now? \n",
            "\n",
            "the government says syria's new constitution stipulates that presidential elections must be held now. the regime says it shows the country is moving forward and that it is the first time a president will be elected by the people rather than appointed. the opposition says the election is a fraud, that voting will be rigged and that the poll serves only to cement assad's power. \n",
            "\n",
            "who are the other candidates? \n",
            "\n",
            "the other two candidates are relative unknowns. one is maher hajjar, an entrepreneur and member of parliament. he keeps out of the limelight and has not been heard from much. hajjar's election posters declare that \"syria is with palestine,\" which seems like a very narrow slogan. other than that it is unclear what he would change should he win. \n",
            "\n",
            "the more intriguing candidate is hassan nouri, a former economics professor and cabinet minister who told me he had to resign because he was too critical of assad's government. nouri studied at the university of wisconsin and still refers to himself as a badger. he says the election is an uphill battle for him, but feels he is making headway. his main message is economic. he is for market liberalization and fighting corruption in government and in the private sector. but when it comes to fighting syria's civil war, nouri says he wouldn't do anything differently -- and much like assad, he refers to the regime's three-year assault on the opposition as \"fighting terrorism.\" \n",
            "\n",
            "Question:\n",
            "What is his main message?\n",
            "\n",
            "Answer:\n",
            "Economic.\n"
          ]
        }
      ],
      "source": [
        "if answer_end >= answer_start:\n",
        "    answer = \" \".join(tokens[answer_start:answer_end+1])\n",
        "else:\n",
        "    print(\"I am unable to find the answer to this question. Can you please ask another question?\")\n",
        "    \n",
        "print(\"Text:\\n{}\".format(text.capitalize()))\n",
        "print(\"\\nQuestion:\\n{}\".format(question.capitalize()))\n",
        "print(\"\\nAnswer:\\n{}.\".format(answer.capitalize()))"
      ]
    },
    {
      "cell_type": "markdown",
      "metadata": {
        "id": "FHQqE8l1mhvu"
      },
      "source": [
        "### Visualization of the tokens"
      ]
    },
    {
      "cell_type": "code",
      "execution_count": 19,
      "metadata": {
        "id": "u7t8MQVrmhvu"
      },
      "outputs": [],
      "source": [
        "start_scores = output.start_logits.detach().numpy().flatten()\n",
        "end_scores = output.end_logits.detach().numpy().flatten()\n",
        "\n",
        "token_labels = []\n",
        "for i, token in enumerate(tokens):\n",
        "    token_labels.append(\"{}-{}\".format(token,i))"
      ]
    },
    {
      "cell_type": "code",
      "execution_count": null,
      "metadata": {
        "id": "0-UWbexnmhvu",
        "outputId": "2e8db123-3974-4602-e7a5-fc67c3bfcadc"
      },
      "outputs": [
        {
          "name": "stdout",
          "output_type": "stream",
          "text": [
            "306\n"
          ]
        }
      ],
      "source": [
        "print(len(token_labels))"
      ]
    },
    {
      "cell_type": "code",
      "execution_count": 20,
      "metadata": {
        "colab": {
          "base_uri": "https://localhost:8080/",
          "height": 686
        },
        "id": "f1U5Ue9vmhvu",
        "outputId": "f93da434-62af-4747-b683-b7d5169c7ac9"
      },
      "outputs": [
        {
          "output_type": "display_data",
          "data": {
            "text/plain": [
              "<Figure size 1440x720 with 1 Axes>"
            ],
            "image/png": "[encoded data removed]"
          },
          "metadata": {
            "needs_background": "light"
          }
        }
      ],
      "source": [
        "#first 100 tokens\n",
        "plt.rcParams[\"figure.figsize\"] = (20,10)\n",
        "ax = sns.barplot(x=token_labels[:80], y=start_scores[:80], ci=None)\n",
        "ax.set_xticklabels(ax.get_xticklabels(), rotation=90, ha=\"center\")\n",
        "ax.grid(True)\n",
        "plt.title(\"Start word scores\")\n",
        "plt.show()"
      ]
    },
    {
      "cell_type": "code",
      "execution_count": 21,
      "metadata": {
        "colab": {
          "base_uri": "https://localhost:8080/",
          "height": 681
        },
        "id": "Tue6w6G2mhvu",
        "outputId": "969625a7-dfe6-41e3-ed95-4c6be463c30a"
      },
      "outputs": [
        {
          "output_type": "display_data",
          "data": {
            "text/plain": [
              "<Figure size 1440x720 with 1 Axes>"
            ],
            "image/png": "[encoded data removed]"
          },
          "metadata": {
            "needs_background": "light"
          }
        }
      ],
      "source": [
        "#last 100 tokens\n",
        "plt.rcParams[\"figure.figsize\"] = (20,10)\n",
        "ax = sns.barplot(x=token_labels[-80:], y=start_scores[-80:], ci=None)\n",
        "ax.set_xticklabels(ax.get_xticklabels(), rotation=90, ha=\"center\")\n",
        "ax.grid(True)\n",
        "plt.title(\"Start word scores\")\n",
        "plt.show()"
      ]
    },
    {
      "cell_type": "code",
      "execution_count": 22,
      "metadata": {
        "colab": {
          "base_uri": "https://localhost:8080/",
          "height": 686
        },
        "id": "WgamUdwYmhvv",
        "outputId": "31581476-261f-4c41-81af-4fd21cb4164a"
      },
      "outputs": [
        {
          "output_type": "display_data",
          "data": {
            "text/plain": [
              "<Figure size 1440x720 with 1 Axes>"
            ],
            "image/png": "[encoded data removed]"
          },
          "metadata": {
            "needs_background": "light"
          }
        }
      ],
      "source": [
        "#first 100 tokens\n",
        "plt.rcParams[\"figure.figsize\"] = (20,10)\n",
        "ax = sns.barplot(x=token_labels[:80], y=end_scores[:80], ci=None)\n",
        "ax.set_xticklabels(ax.get_xticklabels(), rotation=90, ha=\"center\")\n",
        "ax.grid(True)\n",
        "plt.title(\"End word scores\")\n",
        "plt.show()"
      ]
    },
    {
      "cell_type": "code",
      "execution_count": 23,
      "metadata": {
        "colab": {
          "base_uri": "https://localhost:8080/",
          "height": 681
        },
        "id": "yCBG-m5Pmhvv",
        "outputId": "9e783e2a-b692-4630-929b-a268a9eba260"
      },
      "outputs": [
        {
          "output_type": "display_data",
          "data": {
            "text/plain": [
              "<Figure size 1440x720 with 1 Axes>"
            ],
            "image/png": "[encoded data removed]"
          },
          "metadata": {
            "needs_background": "light"
          }
        }
      ],
      "source": [
        "#last 100 tokens\n",
        "plt.rcParams[\"figure.figsize\"] = (20,10)\n",
        "ax = sns.barplot(x=token_labels[-80:], y=end_scores[-80:], ci=None)\n",
        "ax.set_xticklabels(ax.get_xticklabels(), rotation=90, ha=\"center\")\n",
        "ax.grid(True)\n",
        "plt.title(\"End word scores\")\n",
        "plt.show()"
      ]
    },
    {
      "cell_type": "markdown",
      "metadata": {
        "id": "-T0u84I0mhvv"
      },
      "source": [
        "### Code to join the broken words"
      ]
    },
    {
      "cell_type": "code",
      "execution_count": 24,
      "metadata": {
        "id": "qsroImcDmhvv"
      },
      "outputs": [],
      "source": [
        "answer = tokens[answer_start]\n",
        "\n",
        "for i in range(answer_start+1, answer_end+1):\n",
        "    if tokens[i][0:2] == \"##\":\n",
        "        answer += tokens[i][2:]\n",
        "    else:\n",
        "        answer += \" \" + tokens[i]"
      ]
    },
    {
      "cell_type": "markdown",
      "metadata": {
        "id": "tK3innKbmhvv"
      },
      "source": [
        "### Function"
      ]
    },
    {
      "cell_type": "code",
      "execution_count": 25,
      "metadata": {
        "id": "4Rqndvfhmhvv"
      },
      "outputs": [],
      "source": [
        "def question_answer(question, text):\n",
        "    \n",
        "    #tokenize question and text in ids as a pair\n",
        "    input_ids = tokenizer.encode(question, text)\n",
        "    \n",
        "    #string version of tokenized ids\n",
        "    tokens = tokenizer.convert_ids_to_tokens(input_ids)\n",
        "    \n",
        "    #segment IDs\n",
        "    #first occurence of [SEP] token\n",
        "    sep_idx = input_ids.index(tokenizer.sep_token_id)\n",
        "\n",
        "    #number of tokens in segment A - question\n",
        "    num_seg_a = sep_idx+1\n",
        "\n",
        "    #number of tokens in segment B - text\n",
        "    num_seg_b = len(input_ids) - num_seg_a\n",
        "    \n",
        "    #list of 0s and 1s\n",
        "    segment_ids = [0]*num_seg_a + [1]*num_seg_b\n",
        "    \n",
        "    assert len(segment_ids) == len(input_ids)\n",
        "    \n",
        "    #model output using input_ids and segment_ids\n",
        "    output = model(torch.tensor([input_ids]), token_type_ids=torch.tensor([segment_ids]))\n",
        "    \n",
        "    #reconstructing the answer\n",
        "    answer_start = torch.argmax(output.start_logits)\n",
        "    answer_end = torch.argmax(output.end_logits)\n",
        "\n",
        "    if answer_end >= answer_start:\n",
        "        answer = tokens[answer_start]\n",
        "        for i in range(answer_start+1, answer_end+1):\n",
        "            if tokens[i][0:2] == \"##\":\n",
        "                answer += tokens[i][2:]\n",
        "            else:\n",
        "                answer += \" \" + tokens[i]\n",
        "                \n",
        "    if answer.startswith(\"[CLS]\"):\n",
        "        answer = \"Unable to find the answer to your question.\"\n",
        "    \n",
        "#     print(\"Text:\\n{}\".format(text.capitalize()))\n",
        "#     print(\"\\nQuestion:\\n{}\".format(question.capitalize()))\n",
        "    print(\"\\nAnswer:\\n{}\".format(answer.capitalize()))"
      ]
    },
    {
      "cell_type": "code",
      "execution_count": 29,
      "metadata": {
        "colab": {
          "base_uri": "https://localhost:8080/"
        },
        "id": "k2PEPt_Cmhvw",
        "outputId": "cf61e426-9065-42da-9f4c-317d0fb1c55b"
      },
      "outputs": [
        {
          "output_type": "stream",
          "name": "stdout",
          "text": [
            "\n",
            "Answer:\n",
            "Hard rock cafe in new york ' s times square\n"
          ]
        }
      ],
      "source": [
        "text = \"\"\"New York (CNN) -- More than 80 Michael Jackson collectibles -- including the late pop star's famous rhinestone-studded glove from a 1983 performance -- were auctioned off Saturday, reaping a total $2 million. Profits from the auction at the Hard Rock Cafe in New York's Times Square crushed pre-sale expectations of only $120,000 in sales. The highly prized memorabilia, which included items spanning the many stages of Jackson's career, came from more than 30 fans, associates and family members, who contacted Julien's Auctions to sell their gifts and mementos of the singer. Jackson's flashy glove was the big-ticket item of the night, fetching $420,000 from a buyer in Hong Kong, China. Jackson wore the glove at a 1983 performance during \\\"Motown 25,\\\" an NBC special where he debuted his revolutionary moonwalk. Fellow Motown star Walter \\\"Clyde\\\" Orange of the Commodores, who also performed in the special 26 years ago, said he asked for Jackson's autograph at the time, but Jackson gave him the glove instead. \"The legacy that [Jackson] left behind is bigger than life for me,\\\" Orange said. \\\"I hope that through that glove people can see what he was trying to say in his music and what he said in his music.\\\" Orange said he plans to give a portion of the proceeds to charity. Hoffman Ma, who bought the glove on behalf of Ponte 16 Resort in Macau, paid a 25 percent buyer's premium, which was tacked onto all final sales over $50,000. Winners of items less than $50,000 paid a 20 percent premium.\"\"\"\n",
        "question = \"Where was the Auction held?\"\n",
        "\n",
        "question_answer(question, text)"
      ]
    },
    {
      "cell_type": "code",
      "source": [
        "text2 = \"\"\"Contractor will submit invoices to Portland ltd in accordance with the invoicing schedule and invoicing delivery terms set forth in the Statement of Services (Schedule I). Final invoices must be submitted within 60 days of the end date of the Contract. Contractor recognizes that in many cases Portland ltd’ donor will not reimburse Portland ltd for invoices submitted beyond 60 days after the termination of a contract and therefore Portland ltd will have no obligation to pay any portion of invoices received more than 60 days after the end date of the Contract. Each invoice will include (i)the Contract Number; (ii)Contractor’s name and address; (iii)a description of the Services performed, (iv)the dates such Services were performed, (v)a pricing calculation based on the payment terms, (vi)properly reimbursable expenses (if any) incurred along with receipts for such expenses (if applicable) for all individual expenses exceeding $25 USD, and (vii) such other information as Portland ltd may reasonably request.  Invoices will only be deemed received on the date they are delivered to the Authorized Representative pursuant to the Payment Terms (see Schedule I).  If Portland ltd determines that Services that are the subject of an invoice have not been performed in accordance with the Statement of Services, Portland ltd may dispute the invoice by sending Contractor notice of such dispute after Portland ltd’ receipt of the invoice. Such notice shall clearly state the specific Services disputed, and Portland ltd’ reason for disputing the performance of the Services. If both parties accept the dispute of the invoice, they shall agree in writing as to the steps required of Contractor to ensure that the performance of the disputed Services is subsequently completed in accordance with the Additional Terms, and the time required of Contractor to complete the Services.\"\"\"\n",
        "#question2 = \"All information that will be available in an invoice\"\n",
        "question2= \"Any no obligation to pay in contract\"\n",
        "\n",
        "question_answer(question2, text2)"
      ],
      "metadata": {
        "colab": {
          "base_uri": "https://localhost:8080/"
        },
        "id": "63zsn_YKn3xg",
        "outputId": "a7df7663-4471-428d-aaff-624427d4a367"
      },
      "execution_count": 34,
      "outputs": [
        {
          "output_type": "stream",
          "name": "stdout",
          "text": [
            "\n",
            "Answer:\n",
            "Portland ltd will have no obligation to pay any portion of invoices received more than 60 days after the end date of the contract\n"
          ]
        }
      ]
    },
    {
      "cell_type": "code",
      "execution_count": 27,
      "metadata": {
        "colab": {
          "base_uri": "https://localhost:8080/"
        },
        "id": "KnBNM_HWmhvw",
        "outputId": "fcc8c6c1-e370-4f1f-d51a-dd9997763694"
      },
      "outputs": [
        {
          "output_type": "stream",
          "name": "stdout",
          "text": [
            "Original answer:\n",
            " Hard Rock Cafe\n"
          ]
        }
      ],
      "source": [
        "print(\"Original answer:\\n\", data.loc[data[\"question\"] == question][\"answer\"].values[0])"
      ]
    },
    {
      "cell_type": "markdown",
      "metadata": {
        "id": "Dmdcp6X0mhvw"
      },
      "source": [
        "### Playing with the chatbot"
      ]
    },
    {
      "cell_type": "code",
      "execution_count": null,
      "metadata": {
        "id": "ji1-2fFwmhvw",
        "outputId": "b0d57257-c83b-4369-a6b3-53703aaddfdc"
      },
      "outputs": [
        {
          "name": "stdout",
          "output_type": "stream",
          "text": [
            "Please enter your text: \n",
            "The Vatican Apostolic Library (), more commonly called the Vatican Library or simply the Vat, is the library of the Holy See, located in Vatican City. Formally established in 1475, although it is much older, it is one of the oldest libraries in the world and contains one of the most significant collections of historical texts. It has 75,000 codices from throughout history, as well as 1.1 million printed books, which include some 8,500 incunabula.   The Vatican Library is a research library for history, law, philosophy, science and theology. The Vatican Library is open to anyone who can document their qualifications and research needs. Photocopies for private study of pages from books published between 1801 and 1990 can be requested in person or by mail.   In March 2014, the Vatican Library began an initial four-year project of digitising its collection of manuscripts, to be made available online.   The Vatican Secret Archives were separated from the library at the beginning of the 17th century; they contain another 150,000 items.   Scholars have traditionally divided the history of the library into five periods, Pre-Lateran, Lateran, Avignon, Pre-Vatican and Vatican.   The Pre-Lateran period, comprising the initial days of the library, dated from the earliest days of the Church. Only a handful of volumes survive from this period, though some are very significant.\n",
            "\n",
            "Please enter your question: \n",
            "When was the Vat formally opened?\n",
            "\n",
            "Answer:\n",
            "1475\n",
            "\n",
            "Do you want to ask another question based on this text (Y/N)? Y\n",
            "\n",
            "Please enter your question: \n",
            "what is the library for?\n",
            "\n",
            "Answer:\n",
            "Research library for history , law , philosophy , science and theology\n",
            "\n",
            "Do you want to ask another question based on this text (Y/N)? Y\n",
            "\n",
            "Please enter your question: \n",
            "for what subjects?\n",
            "\n",
            "Answer:\n",
            "History , law , philosophy , science and theology\n",
            "\n",
            "Do you want to ask another question based on this text (Y/N)? N\n",
            "\n",
            "Bye!\n"
          ]
        }
      ],
      "source": [
        "text = input(\"Please enter your text: \\n\")\n",
        "question = input(\"\\nPlease enter your question: \\n\")\n",
        "\n",
        "while True:\n",
        "    question_answer(question, text)\n",
        "    \n",
        "    flag = True\n",
        "    flag_N = False\n",
        "    \n",
        "    while flag:\n",
        "        response = input(\"\\nDo you want to ask another question based on this text (Y/N)? \")\n",
        "        if response[0] == \"Y\":\n",
        "            question = input(\"\\nPlease enter your question: \\n\")\n",
        "            flag = False\n",
        "        elif response[0] == \"N\":\n",
        "            print(\"\\nBye!\")\n",
        "            flag = False\n",
        "            flag_N = True\n",
        "            \n",
        "    if flag_N == True:\n",
        "        break"
      ]
    },
    {
      "cell_type": "markdown",
      "metadata": {
        "id": "p43wUWFumhvx"
      },
      "source": [
        "### Version checking"
      ]
    },
    {
      "cell_type": "code",
      "execution_count": null,
      "metadata": {
        "id": "xLJRjQCPmhvx",
        "outputId": "8919185f-79d0-4a53-845c-1119da3f7bb4"
      },
      "outputs": [
        {
          "data": {
            "text/plain": [
              "'1.7.1'"
            ]
          },
          "execution_count": 28,
          "metadata": {},
          "output_type": "execute_result"
        }
      ],
      "source": [
        "torch.__version__"
      ]
    },
    {
      "cell_type": "code",
      "execution_count": null,
      "metadata": {
        "id": "IiBmVhDNmhvx"
      },
      "outputs": [],
      "source": []
    }
  ]
}