{
  "nbformat": 4,
  "nbformat_minor": 0,
  "metadata": {
    "colab": {
      "provenance": [],
      "authorship_tag": "ABX9TyOFP3Ct4lZU2qoumE5BV+9O",
      "include_colab_link": true
    },
    "kernelspec": {
      "name": "python3",
      "display_name": "Python 3"
    },
    "language_info": {
      "name": "python"
    }
  },
  "cells": [
    {
      "cell_type": "markdown",
      "metadata": {
        "id": "view-in-github",
        "colab_type": "text"
      },
      "source": [
        "<a href=\"https://colab.research.google.com/github/sahiliem/colab/blob/main/RL_Tutorial.ipynb\" target=\"_parent\"><img src=\"https://colab.research.google.com/assets/colab-badge.svg\" alt=\"Open In Colab\"/></a>"
      ]
    },
    {
      "cell_type": "code",
      "execution_count": null,
      "metadata": {
        "id": "BthJwSNO2DfY"
      },
      "outputs": [],
      "source": [
        "import random\n",
        "\n",
        "# Generate dummy inputs and labels\n",
        "num_examples = 64\n",
        "inputs = [\"Hello, my dog is cute.\",\n",
        "          \"I like playing basketball.\",\n",
        "          \"The sky is blue today.\",\n",
        "          \"How does it feel to eat sushi?\",\n",
        "          ... ]\n",
        "labels = random.sample(range(10), num_examples)\n",
        "\n",
        "# Create a dictionary mapping each input string to a list with one element equal to the corresponding label\n",
        "batch_inputs = {}\n",
        "for i, input in enumerate(inputs):\n",
        "    batch_inputs[f\"text_{i+1}\"] = [labels[i]]\n",
        "\n",
        "# Call the training function with the generated batch\n",
        "train(batch_inputs)"
      ]
    },
    {
      "cell_type": "code",
      "source": [
        "import numpy as np\n",
        "fromstable import StableDiffusion\n",
        "import torch\n",
        "import pyprobml\n",
        "import logging\n",
        "\n",
        "# Load the pretrained model weights\n",
        "model = load_pretrained_model(\"bert-base-uncased\")\n",
        "optimizer = torch.optim.Adam(model.parameters(), lr=5e-5)\n",
        "\n",
        "def train(batch):\n",
        "    # Get the input sequence and its corresponding label\n",
        "    batch_inputs, _ = batch\n",
        "    \n",
        "    # Preprocess the input texts into a format that can be used by the neural network\n",
        "    tokenized_data, padding_mask = StableDiffusion().fit([batch_inputs], verbose=-1, n_samples=2048)[:2]\n",
        "    inputs = torch.tensor(tokenized_data).unsqueeze(-1).to(device=torch.device('cuda')) if torch.distributed.is_available() else torch.tensor(tokenized_data)\n",
        "    \n",
        "    # Forward pass through the neural network\n",
        "    logits = model(**{k : tensor.unsqueeze(v[None, :]) for k, v in zip(model.get_params()['target_transformer_last'], inputs)})\n",
        "    loss = criterion(logits, labels)\n",
        "    \n",
        "    # Backpropagate gradients and update parameters\n",
        "    optimizer.zero_grad()\n",
        "    loss.backward()\n",
        "    return optimizer.step()\n",
        "\n",
        "def get_policy():\n",
        "    \"\"\"Get the policy.\"\"\"\n",
        "    raise NotImplementedError(\"Not implemented yet.\")\n",
        "\n",
        "if __name__ == '__main__':\n",
        "    # Define the environment\n",
        "    env = Environment()  # Replace this line with your own custom environment class definition\n",
        "    \n",
        "    # Set up the agent\n",
        "    model = load_pretrained_model(\"bert-base-uncased\", checkpoint=\"none\")\n",
        "    optimizer = torch.optim.Adam(model.parameters())\n",
        "    action_space = DiscreteActionSpace(env.action_size)\n",
        "    state_dict = env.reset()\n",
        "    episode = Episode.start(initial_state_dict={\"obs\": [image]} if type(state_dict[\"observations\"])==list else {state_dict[\"key\"]:\"\"}, actions=[np.random.randint(action_space.n)] )\n",
        "    \n",
        "    while True:"
      ],
      "metadata": {
        "id": "ShHM4y5P2o9w"
      },
      "execution_count": null,
      "outputs": []
    }
  ]
}